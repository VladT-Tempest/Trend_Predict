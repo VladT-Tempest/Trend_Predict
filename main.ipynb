{
 "cells": [
  {
   "cell_type": "markdown",
   "metadata": {},
   "source": [
    "[Fuente](https://www.youtube.com/watch?v=iPQ1yEVniL8)"
   ]
  },
  {
   "cell_type": "code",
   "execution_count": 1,
   "metadata": {},
   "outputs": [
    {
     "name": "stdout",
     "output_type": "stream",
     "text": [
      "Defaulting to user installation because normal site-packages is not writeable\n",
      "Collecting neuralprophet\n",
      "  Downloading neuralprophet-0.8.0-py3-none-any.whl.metadata (9.1 kB)\n",
      "Collecting captum>=0.6.0 (from neuralprophet)\n",
      "  Using cached captum-0.7.0-py3-none-any.whl.metadata (26 kB)\n",
      "Collecting holidays>=0.41 (from neuralprophet)\n",
      "  Using cached holidays-0.46-py3-none-any.whl.metadata (23 kB)\n",
      "Collecting matplotlib<4.0.0,>=3.5.3 (from neuralprophet)\n",
      "  Downloading matplotlib-3.8.4-cp310-cp310-win_amd64.whl.metadata (5.9 kB)\n",
      "Collecting nbformat<6.0.0,>=5.8.0 (from neuralprophet)\n",
      "  Downloading nbformat-5.10.4-py3-none-any.whl.metadata (3.6 kB)\n",
      "Collecting numpy<2.0.0,>=1.25.0 (from neuralprophet)\n",
      "  Downloading numpy-1.26.4-cp310-cp310-win_amd64.whl.metadata (61 kB)\n",
      "     -------------------------------------- 61.0/61.0 kB 819.4 kB/s eta 0:00:00\n",
      "Collecting pandas<3.0.0,>=2.0.0 (from neuralprophet)\n",
      "  Downloading pandas-2.2.2-cp310-cp310-win_amd64.whl.metadata (19 kB)\n",
      "Collecting plotly<6.0.0,>=5.13.1 (from neuralprophet)\n",
      "  Using cached plotly-5.20.0-py3-none-any.whl.metadata (7.0 kB)\n",
      "Collecting pytorch-lightning<2.0.0,>=1.9.4 (from neuralprophet)\n",
      "  Using cached pytorch_lightning-1.9.5-py3-none-any.whl.metadata (23 kB)\n",
      "Requirement already satisfied: tensorboard<3.0.0,>=2.11.2 in c:\\users\\aagui\\appdata\\roaming\\python\\python310\\site-packages (from neuralprophet) (2.13.0)\n",
      "Collecting torch<3.0.0,>=2.0.0 (from neuralprophet)\n",
      "  Downloading torch-2.2.2-cp310-cp310-win_amd64.whl.metadata (26 kB)\n",
      "Collecting torchmetrics<2.0.0,>=1.0.0 (from neuralprophet)\n",
      "  Downloading torchmetrics-1.3.2-py3-none-any.whl.metadata (19 kB)\n",
      "Collecting typing-extensions<5.0.0,>=4.5.0 (from neuralprophet)\n",
      "  Using cached typing_extensions-4.11.0-py3-none-any.whl.metadata (3.0 kB)\n",
      "Requirement already satisfied: tqdm in c:\\users\\aagui\\appdata\\roaming\\python\\python310\\site-packages (from captum>=0.6.0->neuralprophet) (4.65.0)\n",
      "Requirement already satisfied: python-dateutil in c:\\users\\aagui\\appdata\\roaming\\python\\python310\\site-packages (from holidays>=0.41->neuralprophet) (2.8.2)\n",
      "Collecting contourpy>=1.0.1 (from matplotlib<4.0.0,>=3.5.3->neuralprophet)\n",
      "  Downloading contourpy-1.2.1-cp310-cp310-win_amd64.whl.metadata (5.8 kB)\n",
      "Requirement already satisfied: cycler>=0.10 in c:\\users\\aagui\\appdata\\roaming\\python\\python310\\site-packages (from matplotlib<4.0.0,>=3.5.3->neuralprophet) (0.11.0)\n",
      "Requirement already satisfied: fonttools>=4.22.0 in c:\\users\\aagui\\appdata\\roaming\\python\\python310\\site-packages (from matplotlib<4.0.0,>=3.5.3->neuralprophet) (4.33.3)\n",
      "Requirement already satisfied: kiwisolver>=1.3.1 in c:\\users\\aagui\\appdata\\roaming\\python\\python310\\site-packages (from matplotlib<4.0.0,>=3.5.3->neuralprophet) (1.4.3)\n",
      "Requirement already satisfied: packaging>=20.0 in c:\\users\\aagui\\appdata\\roaming\\python\\python310\\site-packages (from matplotlib<4.0.0,>=3.5.3->neuralprophet) (21.3)\n",
      "Requirement already satisfied: pillow>=8 in c:\\users\\aagui\\appdata\\roaming\\python\\python310\\site-packages (from matplotlib<4.0.0,>=3.5.3->neuralprophet) (9.2.0)\n",
      "Requirement already satisfied: pyparsing>=2.3.1 in c:\\users\\aagui\\appdata\\roaming\\python\\python310\\site-packages (from matplotlib<4.0.0,>=3.5.3->neuralprophet) (3.0.9)\n",
      "Collecting fastjsonschema>=2.15 (from nbformat<6.0.0,>=5.8.0->neuralprophet)\n",
      "  Downloading fastjsonschema-2.19.1-py3-none-any.whl.metadata (2.1 kB)\n",
      "Requirement already satisfied: jsonschema>=2.6 in c:\\users\\aagui\\appdata\\roaming\\python\\python310\\site-packages (from nbformat<6.0.0,>=5.8.0->neuralprophet) (4.14.0)\n",
      "Collecting jupyter-core!=5.0.*,>=4.12 (from nbformat<6.0.0,>=5.8.0->neuralprophet)\n",
      "  Downloading jupyter_core-5.7.2-py3-none-any.whl.metadata (3.4 kB)\n",
      "Requirement already satisfied: traitlets>=5.1 in c:\\users\\aagui\\appdata\\roaming\\python\\python310\\site-packages (from nbformat<6.0.0,>=5.8.0->neuralprophet) (5.3.0)\n",
      "Requirement already satisfied: pytz>=2020.1 in c:\\users\\aagui\\appdata\\roaming\\python\\python310\\site-packages (from pandas<3.0.0,>=2.0.0->neuralprophet) (2022.1)\n",
      "Collecting tzdata>=2022.7 (from pandas<3.0.0,>=2.0.0->neuralprophet)\n",
      "  Downloading tzdata-2024.1-py2.py3-none-any.whl.metadata (1.4 kB)\n",
      "Requirement already satisfied: tenacity>=6.2.0 in c:\\users\\aagui\\appdata\\roaming\\python\\python310\\site-packages (from plotly<6.0.0,>=5.13.1->neuralprophet) (8.0.1)\n",
      "Collecting PyYAML>=5.4 (from pytorch-lightning<2.0.0,>=1.9.4->neuralprophet)\n",
      "  Downloading PyYAML-6.0.1-cp310-cp310-win_amd64.whl.metadata (2.1 kB)\n",
      "Collecting fsspec>2021.06.0 (from fsspec[http]>2021.06.0->pytorch-lightning<2.0.0,>=1.9.4->neuralprophet)\n",
      "  Using cached fsspec-2024.3.1-py3-none-any.whl.metadata (6.8 kB)\n",
      "Collecting lightning-utilities>=0.6.0.post0 (from pytorch-lightning<2.0.0,>=1.9.4->neuralprophet)\n",
      "  Using cached lightning_utilities-0.11.2-py3-none-any.whl.metadata (4.7 kB)\n",
      "Requirement already satisfied: absl-py>=0.4 in c:\\users\\aagui\\appdata\\roaming\\python\\python310\\site-packages (from tensorboard<3.0.0,>=2.11.2->neuralprophet) (1.4.0)\n",
      "Requirement already satisfied: grpcio>=1.48.2 in c:\\users\\aagui\\appdata\\roaming\\python\\python310\\site-packages (from tensorboard<3.0.0,>=2.11.2->neuralprophet) (1.57.0)\n",
      "Requirement already satisfied: google-auth<3,>=1.6.3 in c:\\users\\aagui\\appdata\\roaming\\python\\python310\\site-packages (from tensorboard<3.0.0,>=2.11.2->neuralprophet) (2.28.1)\n",
      "Requirement already satisfied: google-auth-oauthlib<1.1,>=0.5 in c:\\users\\aagui\\appdata\\roaming\\python\\python310\\site-packages (from tensorboard<3.0.0,>=2.11.2->neuralprophet) (1.0.0)\n",
      "Requirement already satisfied: markdown>=2.6.8 in c:\\users\\aagui\\appdata\\roaming\\python\\python310\\site-packages (from tensorboard<3.0.0,>=2.11.2->neuralprophet) (3.4.4)\n",
      "Requirement already satisfied: protobuf>=3.19.6 in c:\\users\\aagui\\appdata\\roaming\\python\\python310\\site-packages (from tensorboard<3.0.0,>=2.11.2->neuralprophet) (4.24.2)\n",
      "Requirement already satisfied: requests<3,>=2.21.0 in c:\\users\\aagui\\appdata\\roaming\\python\\python310\\site-packages (from tensorboard<3.0.0,>=2.11.2->neuralprophet) (2.28.1)\n",
      "Requirement already satisfied: setuptools>=41.0.0 in c:\\program files\\python310\\lib\\site-packages (from tensorboard<3.0.0,>=2.11.2->neuralprophet) (58.1.0)\n",
      "Requirement already satisfied: tensorboard-data-server<0.8.0,>=0.7.0 in c:\\users\\aagui\\appdata\\roaming\\python\\python310\\site-packages (from tensorboard<3.0.0,>=2.11.2->neuralprophet) (0.7.1)\n",
      "Requirement already satisfied: werkzeug>=1.0.1 in c:\\users\\aagui\\appdata\\roaming\\python\\python310\\site-packages (from tensorboard<3.0.0,>=2.11.2->neuralprophet) (2.3.4)\n",
      "Requirement already satisfied: wheel>=0.26 in c:\\users\\aagui\\appdata\\roaming\\python\\python310\\site-packages (from tensorboard<3.0.0,>=2.11.2->neuralprophet) (0.41.2)\n",
      "Requirement already satisfied: filelock in c:\\users\\aagui\\appdata\\roaming\\python\\python310\\site-packages (from torch<3.0.0,>=2.0.0->neuralprophet) (3.9.0)\n",
      "Collecting sympy (from torch<3.0.0,>=2.0.0->neuralprophet)\n",
      "  Using cached sympy-1.12-py3-none-any.whl.metadata (12 kB)\n",
      "Collecting networkx (from torch<3.0.0,>=2.0.0->neuralprophet)\n",
      "  Downloading networkx-3.3-py3-none-any.whl.metadata (5.1 kB)\n",
      "Requirement already satisfied: jinja2 in c:\\users\\aagui\\appdata\\roaming\\python\\python310\\site-packages (from torch<3.0.0,>=2.0.0->neuralprophet) (3.1.2)\n",
      "Requirement already satisfied: aiohttp!=4.0.0a0,!=4.0.0a1 in c:\\users\\aagui\\appdata\\roaming\\python\\python310\\site-packages (from fsspec[http]>2021.06.0->pytorch-lightning<2.0.0,>=1.9.4->neuralprophet) (3.8.4)\n",
      "Requirement already satisfied: cachetools<6.0,>=2.0.0 in c:\\users\\aagui\\appdata\\roaming\\python\\python310\\site-packages (from google-auth<3,>=1.6.3->tensorboard<3.0.0,>=2.11.2->neuralprophet) (5.2.0)\n",
      "Requirement already satisfied: pyasn1-modules>=0.2.1 in c:\\users\\aagui\\appdata\\roaming\\python\\python310\\site-packages (from google-auth<3,>=1.6.3->tensorboard<3.0.0,>=2.11.2->neuralprophet) (0.2.8)\n",
      "Requirement already satisfied: rsa<5,>=3.1.4 in c:\\users\\aagui\\appdata\\roaming\\python\\python310\\site-packages (from google-auth<3,>=1.6.3->tensorboard<3.0.0,>=2.11.2->neuralprophet) (4.9)\n",
      "Requirement already satisfied: requests-oauthlib>=0.7.0 in c:\\users\\aagui\\appdata\\roaming\\python\\python310\\site-packages (from google-auth-oauthlib<1.1,>=0.5->tensorboard<3.0.0,>=2.11.2->neuralprophet) (1.3.1)\n",
      "Requirement already satisfied: attrs>=17.4.0 in c:\\users\\aagui\\appdata\\roaming\\python\\python310\\site-packages (from jsonschema>=2.6->nbformat<6.0.0,>=5.8.0->neuralprophet) (22.1.0)\n",
      "Requirement already satisfied: pyrsistent!=0.17.0,!=0.17.1,!=0.17.2,>=0.14.0 in c:\\users\\aagui\\appdata\\roaming\\python\\python310\\site-packages (from jsonschema>=2.6->nbformat<6.0.0,>=5.8.0->neuralprophet) (0.18.1)\n",
      "Collecting platformdirs>=2.5 (from jupyter-core!=5.0.*,>=4.12->nbformat<6.0.0,>=5.8.0->neuralprophet)\n",
      "  Downloading platformdirs-4.2.0-py3-none-any.whl.metadata (11 kB)\n",
      "Requirement already satisfied: pywin32>=300 in c:\\users\\aagui\\appdata\\roaming\\python\\python310\\site-packages (from jupyter-core!=5.0.*,>=4.12->nbformat<6.0.0,>=5.8.0->neuralprophet) (304)\n",
      "Requirement already satisfied: six>=1.5 in c:\\users\\aagui\\appdata\\roaming\\python\\python310\\site-packages (from python-dateutil->holidays>=0.41->neuralprophet) (1.16.0)\n",
      "Requirement already satisfied: charset-normalizer<3,>=2 in c:\\users\\aagui\\appdata\\roaming\\python\\python310\\site-packages (from requests<3,>=2.21.0->tensorboard<3.0.0,>=2.11.2->neuralprophet) (2.1.0)\n",
      "Requirement already satisfied: idna<4,>=2.5 in c:\\users\\aagui\\appdata\\roaming\\python\\python310\\site-packages (from requests<3,>=2.21.0->tensorboard<3.0.0,>=2.11.2->neuralprophet) (3.3)\n",
      "Requirement already satisfied: urllib3<1.27,>=1.21.1 in c:\\users\\aagui\\appdata\\roaming\\python\\python310\\site-packages (from requests<3,>=2.21.0->tensorboard<3.0.0,>=2.11.2->neuralprophet) (1.26.9)\n",
      "Requirement already satisfied: certifi>=2017.4.17 in c:\\users\\aagui\\appdata\\roaming\\python\\python310\\site-packages (from requests<3,>=2.21.0->tensorboard<3.0.0,>=2.11.2->neuralprophet) (2022.6.15)\n",
      "Requirement already satisfied: colorama in c:\\users\\aagui\\appdata\\roaming\\python\\python310\\site-packages (from tqdm->captum>=0.6.0->neuralprophet) (0.4.5)\n",
      "Requirement already satisfied: MarkupSafe>=2.1.1 in c:\\users\\aagui\\appdata\\roaming\\python\\python310\\site-packages (from werkzeug>=1.0.1->tensorboard<3.0.0,>=2.11.2->neuralprophet) (2.1.1)\n",
      "Collecting mpmath>=0.19 (from sympy->torch<3.0.0,>=2.0.0->neuralprophet)\n",
      "  Using cached mpmath-1.3.0-py3-none-any.whl.metadata (8.6 kB)\n",
      "Requirement already satisfied: multidict<7.0,>=4.5 in c:\\users\\aagui\\appdata\\roaming\\python\\python310\\site-packages (from aiohttp!=4.0.0a0,!=4.0.0a1->fsspec[http]>2021.06.0->pytorch-lightning<2.0.0,>=1.9.4->neuralprophet) (6.0.4)\n",
      "Requirement already satisfied: async-timeout<5.0,>=4.0.0a3 in c:\\users\\aagui\\appdata\\roaming\\python\\python310\\site-packages (from aiohttp!=4.0.0a0,!=4.0.0a1->fsspec[http]>2021.06.0->pytorch-lightning<2.0.0,>=1.9.4->neuralprophet) (4.0.2)\n",
      "Requirement already satisfied: yarl<2.0,>=1.0 in c:\\users\\aagui\\appdata\\roaming\\python\\python310\\site-packages (from aiohttp!=4.0.0a0,!=4.0.0a1->fsspec[http]>2021.06.0->pytorch-lightning<2.0.0,>=1.9.4->neuralprophet) (1.8.2)\n",
      "Requirement already satisfied: frozenlist>=1.1.1 in c:\\users\\aagui\\appdata\\roaming\\python\\python310\\site-packages (from aiohttp!=4.0.0a0,!=4.0.0a1->fsspec[http]>2021.06.0->pytorch-lightning<2.0.0,>=1.9.4->neuralprophet) (1.3.3)\n",
      "Requirement already satisfied: aiosignal>=1.1.2 in c:\\users\\aagui\\appdata\\roaming\\python\\python310\\site-packages (from aiohttp!=4.0.0a0,!=4.0.0a1->fsspec[http]>2021.06.0->pytorch-lightning<2.0.0,>=1.9.4->neuralprophet) (1.3.1)\n",
      "Requirement already satisfied: pyasn1<0.5.0,>=0.4.6 in c:\\users\\aagui\\appdata\\roaming\\python\\python310\\site-packages (from pyasn1-modules>=0.2.1->google-auth<3,>=1.6.3->tensorboard<3.0.0,>=2.11.2->neuralprophet) (0.4.8)\n",
      "Requirement already satisfied: oauthlib>=3.0.0 in c:\\users\\aagui\\appdata\\roaming\\python\\python310\\site-packages (from requests-oauthlib>=0.7.0->google-auth-oauthlib<1.1,>=0.5->tensorboard<3.0.0,>=2.11.2->neuralprophet) (3.2.2)\n",
      "Downloading neuralprophet-0.8.0-py3-none-any.whl (145 kB)\n",
      "   ---------------------------------------- 145.4/145.4 kB 2.1 MB/s eta 0:00:00\n",
      "Using cached captum-0.7.0-py3-none-any.whl (1.3 MB)\n",
      "Using cached holidays-0.46-py3-none-any.whl (1.0 MB)\n",
      "Downloading matplotlib-3.8.4-cp310-cp310-win_amd64.whl (7.7 MB)\n",
      "   ---------------------------------------- 7.7/7.7 MB 19.6 MB/s eta 0:00:00\n",
      "Downloading nbformat-5.10.4-py3-none-any.whl (78 kB)\n",
      "   ---------------------------------------- 78.5/78.5 kB 4.5 MB/s eta 0:00:00\n",
      "Downloading numpy-1.26.4-cp310-cp310-win_amd64.whl (15.8 MB)\n",
      "   ---------------------------------------- 15.8/15.8 MB 28.4 MB/s eta 0:00:00\n",
      "Downloading pandas-2.2.2-cp310-cp310-win_amd64.whl (11.6 MB)\n",
      "   ---------------------------------------- 11.6/11.6 MB 8.0 MB/s eta 0:00:00\n",
      "Using cached plotly-5.20.0-py3-none-any.whl (15.7 MB)\n",
      "Using cached pytorch_lightning-1.9.5-py3-none-any.whl (829 kB)\n",
      "Downloading torch-2.2.2-cp310-cp310-win_amd64.whl (198.6 MB)\n",
      "   ---------------------------------------- 198.6/198.6 MB 4.4 MB/s eta 0:00:00\n",
      "Downloading torchmetrics-1.3.2-py3-none-any.whl (841 kB)\n",
      "   ---------------------------------------- 841.5/841.5 kB 4.8 MB/s eta 0:00:00\n",
      "Using cached typing_extensions-4.11.0-py3-none-any.whl (34 kB)\n",
      "Downloading contourpy-1.2.1-cp310-cp310-win_amd64.whl (187 kB)\n",
      "   ---------------------------------------- 187.5/187.5 kB 5.7 MB/s eta 0:00:00\n",
      "Downloading fastjsonschema-2.19.1-py3-none-any.whl (23 kB)\n",
      "Using cached fsspec-2024.3.1-py3-none-any.whl (171 kB)\n",
      "Downloading jupyter_core-5.7.2-py3-none-any.whl (28 kB)\n",
      "Using cached lightning_utilities-0.11.2-py3-none-any.whl (26 kB)\n",
      "Downloading PyYAML-6.0.1-cp310-cp310-win_amd64.whl (145 kB)\n",
      "   ---------------------------------------- 145.3/145.3 kB 9.0 MB/s eta 0:00:00\n",
      "Downloading tzdata-2024.1-py2.py3-none-any.whl (345 kB)\n",
      "   ---------------------------------------- 345.4/345.4 kB 7.1 MB/s eta 0:00:00\n",
      "Downloading networkx-3.3-py3-none-any.whl (1.7 MB)\n",
      "   ---------------------------------------- 1.7/1.7 MB 6.8 MB/s eta 0:00:00\n",
      "Using cached sympy-1.12-py3-none-any.whl (5.7 MB)\n",
      "Using cached mpmath-1.3.0-py3-none-any.whl (536 kB)\n",
      "Downloading platformdirs-4.2.0-py3-none-any.whl (17 kB)\n",
      "Installing collected packages: mpmath, fastjsonschema, tzdata, typing-extensions, sympy, PyYAML, platformdirs, numpy, networkx, fsspec, torch, plotly, pandas, lightning-utilities, jupyter-core, holidays, contourpy, torchmetrics, nbformat, matplotlib, pytorch-lightning, captum, neuralprophet\n",
      "  Attempting uninstall: tzdata\n",
      "    Found existing installation: tzdata 2022.2\n",
      "    Uninstalling tzdata-2022.2:\n",
      "      Successfully uninstalled tzdata-2022.2\n",
      "  Attempting uninstall: typing-extensions\n",
      "    Found existing installation: typing_extensions 4.3.0\n",
      "    Uninstalling typing_extensions-4.3.0:\n",
      "      Successfully uninstalled typing_extensions-4.3.0\n",
      "  Attempting uninstall: numpy\n",
      "    Found existing installation: numpy 1.23.0\n",
      "    Uninstalling numpy-1.23.0:\n",
      "      Successfully uninstalled numpy-1.23.0\n",
      "  Attempting uninstall: plotly\n",
      "    Found existing installation: plotly 5.9.0\n",
      "    Uninstalling plotly-5.9.0:\n",
      "      Successfully uninstalled plotly-5.9.0\n",
      "  Attempting uninstall: pandas\n",
      "    Found existing installation: pandas 1.4.3\n",
      "    Uninstalling pandas-1.4.3:\n",
      "      Successfully uninstalled pandas-1.4.3\n",
      "  Attempting uninstall: jupyter-core\n",
      "    Found existing installation: jupyter-core 4.10.0\n",
      "    Uninstalling jupyter-core-4.10.0:\n",
      "      Successfully uninstalled jupyter-core-4.10.0\n",
      "  Attempting uninstall: matplotlib\n",
      "    Found existing installation: matplotlib 3.5.2\n",
      "    Uninstalling matplotlib-3.5.2:\n",
      "      Successfully uninstalled matplotlib-3.5.2\n",
      "Successfully installed PyYAML-6.0.1 captum-0.7.0 contourpy-1.2.1 fastjsonschema-2.19.1 fsspec-2024.3.1 holidays-0.46 jupyter-core-5.7.2 lightning-utilities-0.11.2 matplotlib-3.8.4 mpmath-1.3.0 nbformat-5.10.4 networkx-3.3 neuralprophet-0.8.0 numpy-1.26.4 pandas-2.2.2 platformdirs-4.2.0 plotly-5.20.0 pytorch-lightning-1.9.5 sympy-1.12 torch-2.2.2 torchmetrics-1.3.2 typing-extensions-4.11.0 tzdata-2024.1\n"
     ]
    },
    {
     "name": "stderr",
     "output_type": "stream",
     "text": [
      "ERROR: pip's dependency resolver does not currently take into account all the packages that are installed. This behaviour is the source of the following dependency conflicts.\n",
      "scipy 1.8.1 requires numpy<1.25.0,>=1.17.3, but you have numpy 1.26.4 which is incompatible.\n",
      "streamlit 1.12.0 requires protobuf<4,>=3.12, but you have protobuf 4.24.2 which is incompatible.\n",
      "tensorflow-intel 2.13.0 requires numpy<=1.24.3,>=1.22, but you have numpy 1.26.4 which is incompatible.\n",
      "tensorflow-intel 2.13.0 requires typing-extensions<4.6.0,>=3.6.6, but you have typing-extensions 4.11.0 which is incompatible.\n"
     ]
    }
   ],
   "source": [
    "!pip install neuralprophet"
   ]
  },
  {
   "cell_type": "code",
   "execution_count": 4,
   "metadata": {},
   "outputs": [
    {
     "name": "stdout",
     "output_type": "stream",
     "text": [
      "Defaulting to user installation because normal site-packages is not writeable\n",
      "Requirement already satisfied: plotly in c:\\users\\aagui\\appdata\\roaming\\python\\python310\\site-packages (5.20.0)\n",
      "Requirement already satisfied: tenacity>=6.2.0 in c:\\users\\aagui\\appdata\\roaming\\python\\python310\\site-packages (from plotly) (8.0.1)\n",
      "Requirement already satisfied: packaging in c:\\users\\aagui\\appdata\\roaming\\python\\python310\\site-packages (from plotly) (21.3)\n",
      "Requirement already satisfied: pyparsing!=3.0.5,>=2.0.2 in c:\\users\\aagui\\appdata\\roaming\\python\\python310\\site-packages (from packaging->plotly) (3.0.9)\n"
     ]
    }
   ],
   "source": [
    "!pip install --upgrade plotly"
   ]
  },
  {
   "cell_type": "code",
   "execution_count": 6,
   "metadata": {},
   "outputs": [],
   "source": [
    "from neuralprophet import NeuralProphet\n",
    "import yfinance as yf \n",
    "import pandas as pd\n",
    "import matplotlib.pyplot as plt\n",
    "import plotly"
   ]
  },
  {
   "cell_type": "markdown",
   "metadata": {},
   "source": [
    "## Read and Preprocess the Data"
   ]
  },
  {
   "cell_type": "code",
   "execution_count": 7,
   "metadata": {},
   "outputs": [
    {
     "name": "stderr",
     "output_type": "stream",
     "text": [
      "WARNING - (py.warnings._showwarnmsg) - C:\\Users\\aagui\\AppData\\Roaming\\Python\\Python310\\site-packages\\yfinance\\base.py:302: FutureWarning: A value is trying to be set on a copy of a DataFrame or Series through chained assignment using an inplace method.\n",
      "The behavior will change in pandas 3.0. This inplace method will never work because the intermediate object on which we are setting values always behaves as a copy.\n",
      "\n",
      "For example, when doing 'df[col].method(value, inplace=True)', try using 'df.method({col: value}, inplace=True)' or df[col] = df[col].method(value) instead, to perform the operation inplace on the original object.\n",
      "\n",
      "\n",
      "  df[\"Dividends\"].fillna(0, inplace=True)\n",
      "\n",
      "WARNING - (py.warnings._showwarnmsg) - C:\\Users\\aagui\\AppData\\Roaming\\Python\\Python310\\site-packages\\yfinance\\base.py:302: FutureWarning: Downcasting object dtype arrays on .fillna, .ffill, .bfill is deprecated and will change in a future version. Call result.infer_objects(copy=False) instead. To opt-in to the future behavior, set `pd.set_option('future.no_silent_downcasting', True)`\n",
      "  df[\"Dividends\"].fillna(0, inplace=True)\n",
      "\n",
      "WARNING - (py.warnings._showwarnmsg) - C:\\Users\\aagui\\AppData\\Roaming\\Python\\Python310\\site-packages\\yfinance\\base.py:303: FutureWarning: A value is trying to be set on a copy of a DataFrame or Series through chained assignment using an inplace method.\n",
      "The behavior will change in pandas 3.0. This inplace method will never work because the intermediate object on which we are setting values always behaves as a copy.\n",
      "\n",
      "For example, when doing 'df[col].method(value, inplace=True)', try using 'df.method({col: value}, inplace=True)' or df[col] = df[col].method(value) instead, to perform the operation inplace on the original object.\n",
      "\n",
      "\n",
      "  df[\"Stock Splits\"].fillna(0, inplace=True)\n",
      "\n"
     ]
    },
    {
     "name": "stdout",
     "output_type": "stream",
     "text": [
      "[*********************100%***********************]  1 of 1 completed\n"
     ]
    },
    {
     "data": {
      "text/html": [
       "<div>\n",
       "<style scoped>\n",
       "    .dataframe tbody tr th:only-of-type {\n",
       "        vertical-align: middle;\n",
       "    }\n",
       "\n",
       "    .dataframe tbody tr th {\n",
       "        vertical-align: top;\n",
       "    }\n",
       "\n",
       "    .dataframe thead th {\n",
       "        text-align: right;\n",
       "    }\n",
       "</style>\n",
       "<table border=\"1\" class=\"dataframe\">\n",
       "  <thead>\n",
       "    <tr style=\"text-align: right;\">\n",
       "      <th></th>\n",
       "      <th>Open</th>\n",
       "      <th>High</th>\n",
       "      <th>Low</th>\n",
       "      <th>Close</th>\n",
       "      <th>Adj Close</th>\n",
       "      <th>Volume</th>\n",
       "    </tr>\n",
       "    <tr>\n",
       "      <th>Date</th>\n",
       "      <th></th>\n",
       "      <th></th>\n",
       "      <th></th>\n",
       "      <th></th>\n",
       "      <th></th>\n",
       "      <th></th>\n",
       "    </tr>\n",
       "  </thead>\n",
       "  <tbody>\n",
       "    <tr>\n",
       "      <th>2015-01-02</th>\n",
       "      <td>26.629999</td>\n",
       "      <td>26.790001</td>\n",
       "      <td>26.393999</td>\n",
       "      <td>26.477501</td>\n",
       "      <td>26.477501</td>\n",
       "      <td>26480000</td>\n",
       "    </tr>\n",
       "    <tr>\n",
       "      <th>2015-01-05</th>\n",
       "      <td>26.357500</td>\n",
       "      <td>26.399500</td>\n",
       "      <td>25.887501</td>\n",
       "      <td>25.973000</td>\n",
       "      <td>25.973000</td>\n",
       "      <td>41182000</td>\n",
       "    </tr>\n",
       "    <tr>\n",
       "      <th>2015-01-06</th>\n",
       "      <td>26.025000</td>\n",
       "      <td>26.060499</td>\n",
       "      <td>25.277500</td>\n",
       "      <td>25.332001</td>\n",
       "      <td>25.332001</td>\n",
       "      <td>54456000</td>\n",
       "    </tr>\n",
       "    <tr>\n",
       "      <th>2015-01-07</th>\n",
       "      <td>25.547501</td>\n",
       "      <td>25.574499</td>\n",
       "      <td>25.182501</td>\n",
       "      <td>25.257500</td>\n",
       "      <td>25.257500</td>\n",
       "      <td>46918000</td>\n",
       "    </tr>\n",
       "    <tr>\n",
       "      <th>2015-01-08</th>\n",
       "      <td>25.075500</td>\n",
       "      <td>25.375000</td>\n",
       "      <td>24.750999</td>\n",
       "      <td>25.345501</td>\n",
       "      <td>25.345501</td>\n",
       "      <td>73054000</td>\n",
       "    </tr>\n",
       "  </tbody>\n",
       "</table>\n",
       "</div>"
      ],
      "text/plain": [
       "                 Open       High        Low      Close  Adj Close    Volume\n",
       "Date                                                                       \n",
       "2015-01-02  26.629999  26.790001  26.393999  26.477501  26.477501  26480000\n",
       "2015-01-05  26.357500  26.399500  25.887501  25.973000  25.973000  41182000\n",
       "2015-01-06  26.025000  26.060499  25.277500  25.332001  25.332001  54456000\n",
       "2015-01-07  25.547501  25.574499  25.182501  25.257500  25.257500  46918000\n",
       "2015-01-08  25.075500  25.375000  24.750999  25.345501  25.345501  73054000"
      ]
     },
     "execution_count": 7,
     "metadata": {},
     "output_type": "execute_result"
    }
   ],
   "source": [
    "stock_symbol = 'GOOGL'\n",
    "start_date = '2015-01-01'\n",
    "end_date = '2024-03-30'\n",
    "\n",
    "stock_data = yf.download(stock_symbol, start = start_date, end = end_date)\n",
    "stock_data.head()"
   ]
  },
  {
   "cell_type": "code",
   "execution_count": 8,
   "metadata": {},
   "outputs": [],
   "source": [
    "stocks = stock_data.reset_index()\n",
    "stocks['Date'] = pd.to_datetime(stocks['Date'])\n"
   ]
  },
  {
   "cell_type": "code",
   "execution_count": 9,
   "metadata": {},
   "outputs": [],
   "source": [
    "stocks = stocks[['Date', 'Close']]\n",
    "stocks.columns = ['ds', 'y']"
   ]
  },
  {
   "cell_type": "code",
   "execution_count": 10,
   "metadata": {},
   "outputs": [
    {
     "data": {
      "image/png": "[encoded data removed]",
      "text/plain": [
       "<Figure size 432x288 with 1 Axes>"
      ]
     },
     "metadata": {
      "needs_background": "light"
     },
     "output_type": "display_data"
    }
   ],
   "source": [
    "plt.plot(stocks['ds'], stocks['y'], label = 'actual', c = 'g')\n",
    "plt.show()"
   ]
  },
  {
   "cell_type": "markdown",
   "metadata": {},
   "source": [
    "## Train the model"
   ]
  },
  {
   "cell_type": "code",
   "execution_count": 11,
   "metadata": {},
   "outputs": [
    {
     "name": "stderr",
     "output_type": "stream",
     "text": [
      "WARNING - (NP.forecaster.fit) - When Global modeling with local normalization, metrics are displayed in normalized scale.\n",
      "WARNING - (py.warnings._showwarnmsg) - C:\\Users\\aagui\\AppData\\Roaming\\Python\\Python310\\site-packages\\neuralprophet\\df_utils.py:1152: FutureWarning: Series.view is deprecated and will be removed in a future version. Use ``astype`` as an alternative to change the dtype.\n",
      "  converted_ds = pd.to_datetime(ds_col, utc=True).view(dtype=np.int64)\n",
      "\n",
      "INFO - (NP.df_utils._infer_frequency) - Major frequency B corresponds to 96.301% of the data.\n",
      "INFO - (NP.df_utils._infer_frequency) - Dataframe freq automatically defined as B\n",
      "INFO - (NP.config.init_data_params) - Setting normalization to global as only one dataframe provided for training.\n",
      "INFO - (NP.utils.set_auto_seasonalities) - Disabling daily seasonality. Run NeuralProphet with daily_seasonality=True to override this.\n",
      "INFO - (NP.config.set_auto_batch_epoch) - Auto-set batch_size to 64\n",
      "INFO - (NP.config.set_auto_batch_epoch) - Auto-set epochs to 90\n",
      "WARNING - (NP.config.set_lr_finder_args) - Learning rate finder: The number of batches (37) is too small than the required number                     for the learning rate finder (234). The results might not be optimal.\n",
      "Missing logger folder: c:\\Users\\aagui\\Github\\Trend_Predict\\lightning_logs\n"
     ]
    },
    {
     "data": {
      "application/vnd.jupyter.widget-view+json": {
       "model_id": "3f76b1bb95b9431392df835b65f0698b",
       "version_major": 2,
       "version_minor": 0
      },
      "text/plain": [
       "Finding best initial lr:   0%|          | 0/234 [00:00<?, ?it/s]"
      ]
     },
     "metadata": {},
     "output_type": "display_data"
    },
    {
     "name": "stderr",
     "output_type": "stream",
     "text": [
      "WARNING - (py.warnings._showwarnmsg) - C:\\Users\\aagui\\AppData\\Roaming\\Python\\Python310\\site-packages\\scipy\\__init__.py:146: UserWarning: A NumPy version >=1.17.3 and <1.25.0 is required for this version of SciPy (detected version 1.26.4\n",
      "  warnings.warn(f\"A NumPy version >={np_minversion} and <{np_maxversion}\"\n",
      "\n"
     ]
    },
    {
     "data": {
      "application/vnd.jupyter.widget-view+json": {
       "model_id": "dbd1dbcb6bdb49f09d3777c9555a2a30",
       "version_major": 2,
       "version_minor": 0
      },
      "text/plain": [
       "Training: 0it [00:00, ?it/s]"
      ]
     },
     "metadata": {},
     "output_type": "display_data"
    },
    {
     "data": {
      "text/html": [
       "<div>\n",
       "<style scoped>\n",
       "    .dataframe tbody tr th:only-of-type {\n",
       "        vertical-align: middle;\n",
       "    }\n",
       "\n",
       "    .dataframe tbody tr th {\n",
       "        vertical-align: top;\n",
       "    }\n",
       "\n",
       "    .dataframe thead th {\n",
       "        text-align: right;\n",
       "    }\n",
       "</style>\n",
       "<table border=\"1\" class=\"dataframe\">\n",
       "  <thead>\n",
       "    <tr style=\"text-align: right;\">\n",
       "      <th></th>\n",
       "      <th>MAE</th>\n",
       "      <th>RMSE</th>\n",
       "      <th>Loss</th>\n",
       "      <th>RegLoss</th>\n",
       "      <th>epoch</th>\n",
       "    </tr>\n",
       "  </thead>\n",
       "  <tbody>\n",
       "    <tr>\n",
       "      <th>0</th>\n",
       "      <td>179.014160</td>\n",
       "      <td>198.252670</td>\n",
       "      <td>1.103170</td>\n",
       "      <td>0.0</td>\n",
       "      <td>0</td>\n",
       "    </tr>\n",
       "    <tr>\n",
       "      <th>1</th>\n",
       "      <td>130.148895</td>\n",
       "      <td>151.650803</td>\n",
       "      <td>0.774794</td>\n",
       "      <td>0.0</td>\n",
       "      <td>1</td>\n",
       "    </tr>\n",
       "    <tr>\n",
       "      <th>2</th>\n",
       "      <td>81.706024</td>\n",
       "      <td>102.713493</td>\n",
       "      <td>0.450829</td>\n",
       "      <td>0.0</td>\n",
       "      <td>2</td>\n",
       "    </tr>\n",
       "    <tr>\n",
       "      <th>3</th>\n",
       "      <td>38.665211</td>\n",
       "      <td>50.421715</td>\n",
       "      <td>0.172023</td>\n",
       "      <td>0.0</td>\n",
       "      <td>3</td>\n",
       "    </tr>\n",
       "    <tr>\n",
       "      <th>4</th>\n",
       "      <td>14.427794</td>\n",
       "      <td>17.753136</td>\n",
       "      <td>0.032004</td>\n",
       "      <td>0.0</td>\n",
       "      <td>4</td>\n",
       "    </tr>\n",
       "    <tr>\n",
       "      <th>...</th>\n",
       "      <td>...</td>\n",
       "      <td>...</td>\n",
       "      <td>...</td>\n",
       "      <td>...</td>\n",
       "      <td>...</td>\n",
       "    </tr>\n",
       "    <tr>\n",
       "      <th>85</th>\n",
       "      <td>6.577410</td>\n",
       "      <td>10.116899</td>\n",
       "      <td>0.012145</td>\n",
       "      <td>0.0</td>\n",
       "      <td>85</td>\n",
       "    </tr>\n",
       "    <tr>\n",
       "      <th>86</th>\n",
       "      <td>6.560658</td>\n",
       "      <td>10.061376</td>\n",
       "      <td>0.012035</td>\n",
       "      <td>0.0</td>\n",
       "      <td>86</td>\n",
       "    </tr>\n",
       "    <tr>\n",
       "      <th>87</th>\n",
       "      <td>6.597259</td>\n",
       "      <td>10.111655</td>\n",
       "      <td>0.012123</td>\n",
       "      <td>0.0</td>\n",
       "      <td>87</td>\n",
       "    </tr>\n",
       "    <tr>\n",
       "      <th>88</th>\n",
       "      <td>6.584685</td>\n",
       "      <td>10.096815</td>\n",
       "      <td>0.012133</td>\n",
       "      <td>0.0</td>\n",
       "      <td>88</td>\n",
       "    </tr>\n",
       "    <tr>\n",
       "      <th>89</th>\n",
       "      <td>6.626192</td>\n",
       "      <td>10.125125</td>\n",
       "      <td>0.012254</td>\n",
       "      <td>0.0</td>\n",
       "      <td>89</td>\n",
       "    </tr>\n",
       "  </tbody>\n",
       "</table>\n",
       "<p>90 rows × 5 columns</p>\n",
       "</div>"
      ],
      "text/plain": [
       "           MAE        RMSE      Loss  RegLoss  epoch\n",
       "0   179.014160  198.252670  1.103170      0.0      0\n",
       "1   130.148895  151.650803  0.774794      0.0      1\n",
       "2    81.706024  102.713493  0.450829      0.0      2\n",
       "3    38.665211   50.421715  0.172023      0.0      3\n",
       "4    14.427794   17.753136  0.032004      0.0      4\n",
       "..         ...         ...       ...      ...    ...\n",
       "85    6.577410   10.116899  0.012145      0.0     85\n",
       "86    6.560658   10.061376  0.012035      0.0     86\n",
       "87    6.597259   10.111655  0.012123      0.0     87\n",
       "88    6.584685   10.096815  0.012133      0.0     88\n",
       "89    6.626192   10.125125  0.012254      0.0     89\n",
       "\n",
       "[90 rows x 5 columns]"
      ]
     },
     "execution_count": 11,
     "metadata": {},
     "output_type": "execute_result"
    }
   ],
   "source": [
    "model = NeuralProphet()\n",
    "model.fit(stocks)"
   ]
  },
  {
   "cell_type": "markdown",
   "metadata": {},
   "source": [
    "## Evaluate the model"
   ]
  },
  {
   "cell_type": "code",
   "execution_count": 15,
   "metadata": {},
   "outputs": [
    {
     "name": "stderr",
     "output_type": "stream",
     "text": [
      "WARNING - (py.warnings._showwarnmsg) - C:\\Users\\aagui\\AppData\\Roaming\\Python\\Python310\\site-packages\\neuralprophet\\df_utils.py:1152: FutureWarning: Series.view is deprecated and will be removed in a future version. Use ``astype`` as an alternative to change the dtype.\n",
      "  converted_ds = pd.to_datetime(ds_col, utc=True).view(dtype=np.int64)\n",
      "\n",
      "INFO - (NP.df_utils._infer_frequency) - Major frequency B corresponds to 96.301% of the data.\n",
      "WARNING - (py.warnings._showwarnmsg) - C:\\Users\\aagui\\AppData\\Roaming\\Python\\Python310\\site-packages\\neuralprophet\\df_utils.py:1152: FutureWarning: Series.view is deprecated and will be removed in a future version. Use ``astype`` as an alternative to change the dtype.\n",
      "  converted_ds = pd.to_datetime(ds_col, utc=True).view(dtype=np.int64)\n",
      "\n",
      "WARNING - (py.warnings._showwarnmsg) - C:\\Users\\aagui\\AppData\\Roaming\\Python\\Python310\\site-packages\\neuralprophet\\df_utils.py:1152: FutureWarning: Series.view is deprecated and will be removed in a future version. Use ``astype`` as an alternative to change the dtype.\n",
      "  converted_ds = pd.to_datetime(ds_col, utc=True).view(dtype=np.int64)\n",
      "\n",
      "INFO - (NP.df_utils._infer_frequency) - Defined frequency is equal to major frequency - B\n",
      "INFO - (NP.df_utils.return_df_in_original_format) - Returning df with no ID column\n"
     ]
    },
    {
     "name": "stderr",
     "output_type": "stream",
     "text": [
      "WARNING - (py.warnings._showwarnmsg) - C:\\Users\\aagui\\AppData\\Roaming\\Python\\Python310\\site-packages\\neuralprophet\\df_utils.py:1152: FutureWarning: Series.view is deprecated and will be removed in a future version. Use ``astype`` as an alternative to change the dtype.\n",
      "  converted_ds = pd.to_datetime(ds_col, utc=True).view(dtype=np.int64)\n",
      "\n",
      "INFO - (NP.df_utils._infer_frequency) - Major frequency B corresponds to 99.667% of the data.\n",
      "WARNING - (py.warnings._showwarnmsg) - C:\\Users\\aagui\\AppData\\Roaming\\Python\\Python310\\site-packages\\neuralprophet\\df_utils.py:1152: FutureWarning: Series.view is deprecated and will be removed in a future version. Use ``astype`` as an alternative to change the dtype.\n",
      "  converted_ds = pd.to_datetime(ds_col, utc=True).view(dtype=np.int64)\n",
      "\n",
      "WARNING - (py.warnings._showwarnmsg) - C:\\Users\\aagui\\AppData\\Roaming\\Python\\Python310\\site-packages\\neuralprophet\\df_utils.py:1152: FutureWarning: Series.view is deprecated and will be removed in a future version. Use ``astype`` as an alternative to change the dtype.\n",
      "  converted_ds = pd.to_datetime(ds_col, utc=True).view(dtype=np.int64)\n",
      "\n",
      "INFO - (NP.df_utils._infer_frequency) - Defined frequency is equal to major frequency - B\n",
      "WARNING - (py.warnings._showwarnmsg) - C:\\Users\\aagui\\AppData\\Roaming\\Python\\Python310\\site-packages\\neuralprophet\\df_utils.py:1152: FutureWarning: Series.view is deprecated and will be removed in a future version. Use ``astype`` as an alternative to change the dtype.\n",
      "  converted_ds = pd.to_datetime(ds_col, utc=True).view(dtype=np.int64)\n",
      "\n",
      "INFO - (NP.df_utils._infer_frequency) - Major frequency B corresponds to 99.667% of the data.\n",
      "WARNING - (py.warnings._showwarnmsg) - C:\\Users\\aagui\\AppData\\Roaming\\Python\\Python310\\site-packages\\neuralprophet\\df_utils.py:1152: FutureWarning: Series.view is deprecated and will be removed in a future version. Use ``astype`` as an alternative to change the dtype.\n",
      "  converted_ds = pd.to_datetime(ds_col, utc=True).view(dtype=np.int64)\n",
      "\n",
      "WARNING - (py.warnings._showwarnmsg) - C:\\Users\\aagui\\AppData\\Roaming\\Python\\Python310\\site-packages\\neuralprophet\\df_utils.py:1152: FutureWarning: Series.view is deprecated and will be removed in a future version. Use ``astype`` as an alternative to change the dtype.\n",
      "  converted_ds = pd.to_datetime(ds_col, utc=True).view(dtype=np.int64)\n",
      "\n",
      "INFO - (NP.df_utils._infer_frequency) - Defined frequency is equal to major frequency - B\n"
     ]
    },
    {
     "data": {
      "application/vnd.jupyter.widget-view+json": {
       "model_id": "9e6ec920e1cd4057875c3f68d505da11",
       "version_major": 2,
       "version_minor": 0
      },
      "text/plain": [
       "Predicting: 37it [00:00, ?it/s]"
      ]
     },
     "metadata": {},
     "output_type": "display_data"
    },
    {
     "name": "stderr",
     "output_type": "stream",
     "text": [
      "INFO - (NP.df_utils.return_df_in_original_format) - Returning df with no ID column\n",
      "WARNING - (py.warnings._showwarnmsg) - C:\\Users\\aagui\\AppData\\Roaming\\Python\\Python310\\site-packages\\neuralprophet\\df_utils.py:1152: FutureWarning: Series.view is deprecated and will be removed in a future version. Use ``astype`` as an alternative to change the dtype.\n",
      "  converted_ds = pd.to_datetime(ds_col, utc=True).view(dtype=np.int64)\n",
      "\n",
      "INFO - (NP.df_utils._infer_frequency) - Major frequency B corresponds to 96.301% of the data.\n",
      "WARNING - (py.warnings._showwarnmsg) - C:\\Users\\aagui\\AppData\\Roaming\\Python\\Python310\\site-packages\\neuralprophet\\df_utils.py:1152: FutureWarning: Series.view is deprecated and will be removed in a future version. Use ``astype`` as an alternative to change the dtype.\n",
      "  converted_ds = pd.to_datetime(ds_col, utc=True).view(dtype=np.int64)\n",
      "\n",
      "WARNING - (py.warnings._showwarnmsg) - C:\\Users\\aagui\\AppData\\Roaming\\Python\\Python310\\site-packages\\neuralprophet\\df_utils.py:1152: FutureWarning: Series.view is deprecated and will be removed in a future version. Use ``astype`` as an alternative to change the dtype.\n",
      "  converted_ds = pd.to_datetime(ds_col, utc=True).view(dtype=np.int64)\n",
      "\n",
      "INFO - (NP.df_utils._infer_frequency) - Defined frequency is equal to major frequency - B\n",
      "WARNING - (py.warnings._showwarnmsg) - C:\\Users\\aagui\\AppData\\Roaming\\Python\\Python310\\site-packages\\neuralprophet\\df_utils.py:1152: FutureWarning: Series.view is deprecated and will be removed in a future version. Use ``astype`` as an alternative to change the dtype.\n",
      "  converted_ds = pd.to_datetime(ds_col, utc=True).view(dtype=np.int64)\n",
      "\n",
      "INFO - (NP.df_utils._infer_frequency) - Major frequency B corresponds to 96.301% of the data.\n",
      "WARNING - (py.warnings._showwarnmsg) - C:\\Users\\aagui\\AppData\\Roaming\\Python\\Python310\\site-packages\\neuralprophet\\df_utils.py:1152: FutureWarning: Series.view is deprecated and will be removed in a future version. Use ``astype`` as an alternative to change the dtype.\n",
      "  converted_ds = pd.to_datetime(ds_col, utc=True).view(dtype=np.int64)\n",
      "\n",
      "WARNING - (py.warnings._showwarnmsg) - C:\\Users\\aagui\\AppData\\Roaming\\Python\\Python310\\site-packages\\neuralprophet\\df_utils.py:1152: FutureWarning: Series.view is deprecated and will be removed in a future version. Use ``astype`` as an alternative to change the dtype.\n",
      "  converted_ds = pd.to_datetime(ds_col, utc=True).view(dtype=np.int64)\n",
      "\n",
      "INFO - (NP.df_utils._infer_frequency) - Defined frequency is equal to major frequency - B\n"
     ]
    },
    {
     "data": {
      "application/vnd.jupyter.widget-view+json": {
       "model_id": "7ca5612c05f34a7ca4719efc8171ffd6",
       "version_major": 2,
       "version_minor": 0
      },
      "text/plain": [
       "Predicting: 37it [00:00, ?it/s]"
      ]
     },
     "metadata": {},
     "output_type": "display_data"
    },
    {
     "name": "stderr",
     "output_type": "stream",
     "text": [
      "INFO - (NP.df_utils.return_df_in_original_format) - Returning df with no ID column\n"
     ]
    },
    {
     "data": {
      "image/png": "[encoded data removed]",
      "text/plain": [
       "<Figure size 432x288 with 1 Axes>"
      ]
     },
     "metadata": {
      "needs_background": "light"
     },
     "output_type": "display_data"
    }
   ],
   "source": [
    "future = model.make_future_dataframe(stocks, periods=300)\n",
    "\n",
    "forecast = model.predict(future)\n",
    "actual_prediction = model.predict(stocks)\n",
    "\n",
    "plt.plot(actual_prediction['ds'], actual_prediction['yhat1'], label = 'prediction_Actual', c='r')\n",
    "plt.plot(forecast['ds'], forecast['yhat1'], label = 'future_prediction', c='b')\n",
    "plt.plot(stocks['ds'], stocks['y'], label = 'actual', c = 'g')\n",
    "plt.legend()\n",
    "plt.show()"
   ]
  },
  {
   "cell_type": "code",
   "execution_count": 17,
   "metadata": {},
   "outputs": [
    {
     "name": "stderr",
     "output_type": "stream",
     "text": [
      "ERROR - (NP.plotly.plot_components) - plotly-resampler is not installed. Please install it to use the resampler.\n",
      "WARNING - (py.warnings._showwarnmsg) - C:\\Users\\aagui\\AppData\\Roaming\\Python\\Python310\\site-packages\\neuralprophet\\plot_forecast_plotly.py:283: FutureWarning: Downcasting object dtype arrays on .fillna, .ffill, .bfill is deprecated and will change in a future version. Call result.infer_objects(copy=False) instead. To opt-in to the future behavior, set `pd.set_option('future.no_silent_downcasting', True)`\n",
      "  fcst = fcst.fillna(value=np.nan)\n",
      "\n",
      "WARNING - (py.warnings._showwarnmsg) - C:\\Users\\aagui\\AppData\\Roaming\\Python\\Python310\\site-packages\\neuralprophet\\plot_forecast_plotly.py:410: FutureWarning:\n",
      "\n",
      "The behavior of DatetimeProperties.to_pydatetime is deprecated, in a future version this will return a Series containing python datetime objects instead of an ndarray. To retain the old behavior, call `np.array` on the result\n",
      "\n",
      "\n"
     ]
    },
    {
     "data": {
      "application/vnd.plotly.v1+json": {
       "config": {
        "plotlyServerURL": "https://plot.ly"
       },
       "data": [
        {
         "line": {
          "color": "#2d92ff",
          "width": 2
         },
         "mode": "lines",
         "name": "Trend",
         "showlegend": false,
         "type": "scatter",
         "x": [
          "2024-03-29T00:00:00",
          "2024-04-01T00:00:00",
          "2024-04-02T00:00:00",
          "2024-04-03T00:00:00",
          "2024-04-04T00:00:00",
          "2024-04-05T00:00:00",
          "2024-04-08T00:00:00",
          "2024-04-09T00:00:00",
          "2024-04-10T00:00:00",
          "2024-04-11T00:00:00",
          "2024-04-12T00:00:00",
          "2024-04-15T00:00:00",
          "2024-04-16T00:00:00",
          "2024-04-17T00:00:00",
          "2024-04-18T00:00:00",
          "2024-04-19T00:00:00",
          "2024-04-22T00:00:00",
          "2024-04-23T00:00:00",
          "2024-04-24T00:00:00",
          "2024-04-25T00:00:00",
          "2024-04-26T00:00:00",
          "2024-04-29T00:00:00",
          "2024-04-30T00:00:00",
          "2024-05-01T00:00:00",
          "2024-05-02T00:00:00",
          "2024-05-03T00:00:00",
          "2024-05-06T00:00:00",
          "2024-05-07T00:00:00",
          "2024-05-08T00:00:00",
          "2024-05-09T00:00:00",
          "2024-05-10T00:00:00",
          "2024-05-13T00:00:00",
          "2024-05-14T00:00:00",
          "2024-05-15T00:00:00",
          "2024-05-16T00:00:00",
          "2024-05-17T00:00:00",
          "2024-05-20T00:00:00",
          "2024-05-21T00:00:00",
          "2024-05-22T00:00:00",
          "2024-05-23T00:00:00",
          "2024-05-24T00:00:00",
          "2024-05-27T00:00:00",
          "2024-05-28T00:00:00",
          "2024-05-29T00:00:00",
          "2024-05-30T00:00:00",
          "2024-05-31T00:00:00",
          "2024-06-03T00:00:00",
          "2024-06-04T00:00:00",
          "2024-06-05T00:00:00",
          "2024-06-06T00:00:00",
          "2024-06-07T00:00:00",
          "2024-06-10T00:00:00",
          "2024-06-11T00:00:00",
          "2024-06-12T00:00:00",
          "2024-06-13T00:00:00",
          "2024-06-14T00:00:00",
          "2024-06-17T00:00:00",
          "2024-06-18T00:00:00",
          "2024-06-19T00:00:00",
          "2024-06-20T00:00:00",
          "2024-06-21T00:00:00",
          "2024-06-24T00:00:00",
          "2024-06-25T00:00:00",
          "2024-06-26T00:00:00",
          "2024-06-27T00:00:00",
          "2024-06-28T00:00:00",
          "2024-07-01T00:00:00",
          "2024-07-02T00:00:00",
          "2024-07-03T00:00:00",
          "2024-07-04T00:00:00",
          "2024-07-05T00:00:00",
          "2024-07-08T00:00:00",
          "2024-07-09T00:00:00",
          "2024-07-10T00:00:00",
          "2024-07-11T00:00:00",
          "2024-07-12T00:00:00",
          "2024-07-15T00:00:00",
          "2024-07-16T00:00:00",
          "2024-07-17T00:00:00",
          "2024-07-18T00:00:00",
          "2024-07-19T00:00:00",
          "2024-07-22T00:00:00",
          "2024-07-23T00:00:00",
          "2024-07-24T00:00:00",
          "2024-07-25T00:00:00",
          "2024-07-26T00:00:00",
          "2024-07-29T00:00:00",
          "2024-07-30T00:00:00",
          "2024-07-31T00:00:00",
          "2024-08-01T00:00:00",
          "2024-08-02T00:00:00",
          "2024-08-05T00:00:00",
          "2024-08-06T00:00:00",
          "2024-08-07T00:00:00",
          "2024-08-08T00:00:00",
          "2024-08-09T00:00:00",
          "2024-08-12T00:00:00",
          "2024-08-13T00:00:00",
          "2024-08-14T00:00:00",
          "2024-08-15T00:00:00",
          "2024-08-16T00:00:00",
          "2024-08-19T00:00:00",
          "2024-08-20T00:00:00",
          "2024-08-21T00:00:00",
          "2024-08-22T00:00:00",
          "2024-08-23T00:00:00",
          "2024-08-26T00:00:00",
          "2024-08-27T00:00:00",
          "2024-08-28T00:00:00",
          "2024-08-29T00:00:00",
          "2024-08-30T00:00:00",
          "2024-09-02T00:00:00",
          "2024-09-03T00:00:00",
          "2024-09-04T00:00:00",
          "2024-09-05T00:00:00",
          "2024-09-06T00:00:00",
          "2024-09-09T00:00:00",
          "2024-09-10T00:00:00",
          "2024-09-11T00:00:00",
          "2024-09-12T00:00:00",
          "2024-09-13T00:00:00",
          "2024-09-16T00:00:00",
          "2024-09-17T00:00:00",
          "2024-09-18T00:00:00",
          "2024-09-19T00:00:00",
          "2024-09-20T00:00:00",
          "2024-09-23T00:00:00",
          "2024-09-24T00:00:00",
          "2024-09-25T00:00:00",
          "2024-09-26T00:00:00",
          "2024-09-27T00:00:00",
          "2024-09-30T00:00:00",
          "2024-10-01T00:00:00",
          "2024-10-02T00:00:00",
          "2024-10-03T00:00:00",
          "2024-10-04T00:00:00",
          "2024-10-07T00:00:00",
          "2024-10-08T00:00:00",
          "2024-10-09T00:00:00",
          "2024-10-10T00:00:00",
          "2024-10-11T00:00:00",
          "2024-10-14T00:00:00",
          "2024-10-15T00:00:00",
          "2024-10-16T00:00:00",
          "2024-10-17T00:00:00",
          "2024-10-18T00:00:00",
          "2024-10-21T00:00:00",
          "2024-10-22T00:00:00",
          "2024-10-23T00:00:00",
          "2024-10-24T00:00:00",
          "2024-10-25T00:00:00",
          "2024-10-28T00:00:00",
          "2024-10-29T00:00:00",
          "2024-10-30T00:00:00",
          "2024-10-31T00:00:00",
          "2024-11-01T00:00:00",
          "2024-11-04T00:00:00",
          "2024-11-05T00:00:00",
          "2024-11-06T00:00:00",
          "2024-11-07T00:00:00",
          "2024-11-08T00:00:00",
          "2024-11-11T00:00:00",
          "2024-11-12T00:00:00",
          "2024-11-13T00:00:00",
          "2024-11-14T00:00:00",
          "2024-11-15T00:00:00",
          "2024-11-18T00:00:00",
          "2024-11-19T00:00:00",
          "2024-11-20T00:00:00",
          "2024-11-21T00:00:00",
          "2024-11-22T00:00:00",
          "2024-11-25T00:00:00",
          "2024-11-26T00:00:00",
          "2024-11-27T00:00:00",
          "2024-11-28T00:00:00",
          "2024-11-29T00:00:00",
          "2024-12-02T00:00:00",
          "2024-12-03T00:00:00",
          "2024-12-04T00:00:00",
          "2024-12-05T00:00:00",
          "2024-12-06T00:00:00",
          "2024-12-09T00:00:00",
          "2024-12-10T00:00:00",
          "2024-12-11T00:00:00",
          "2024-12-12T00:00:00",
          "2024-12-13T00:00:00",
          "2024-12-16T00:00:00",
          "2024-12-17T00:00:00",
          "2024-12-18T00:00:00",
          "2024-12-19T00:00:00",
          "2024-12-20T00:00:00",
          "2024-12-23T00:00:00",
          "2024-12-24T00:00:00",
          "2024-12-25T00:00:00",
          "2024-12-26T00:00:00",
          "2024-12-27T00:00:00",
          "2024-12-30T00:00:00",
          "2024-12-31T00:00:00",
          "2025-01-01T00:00:00",
          "2025-01-02T00:00:00",
          "2025-01-03T00:00:00",
          "2025-01-06T00:00:00",
          "2025-01-07T00:00:00",
          "2025-01-08T00:00:00",
          "2025-01-09T00:00:00",
          "2025-01-10T00:00:00",
          "2025-01-13T00:00:00",
          "2025-01-14T00:00:00",
          "2025-01-15T00:00:00",
          "2025-01-16T00:00:00",
          "2025-01-17T00:00:00",
          "2025-01-20T00:00:00",
          "2025-01-21T00:00:00",
          "2025-01-22T00:00:00",
          "2025-01-23T00:00:00",
          "2025-01-24T00:00:00",
          "2025-01-27T00:00:00",
          "2025-01-28T00:00:00",
          "2025-01-29T00:00:00",
          "2025-01-30T00:00:00",
          "2025-01-31T00:00:00",
          "2025-02-03T00:00:00",
          "2025-02-04T00:00:00",
          "2025-02-05T00:00:00",
          "2025-02-06T00:00:00",
          "2025-02-07T00:00:00",
          "2025-02-10T00:00:00",
          "2025-02-11T00:00:00",
          "2025-02-12T00:00:00",
          "2025-02-13T00:00:00",
          "2025-02-14T00:00:00",
          "2025-02-17T00:00:00",
          "2025-02-18T00:00:00",
          "2025-02-19T00:00:00",
          "2025-02-20T00:00:00",
          "2025-02-21T00:00:00",
          "2025-02-24T00:00:00",
          "2025-02-25T00:00:00",
          "2025-02-26T00:00:00",
          "2025-02-27T00:00:00",
          "2025-02-28T00:00:00",
          "2025-03-03T00:00:00",
          "2025-03-04T00:00:00",
          "2025-03-05T00:00:00",
          "2025-03-06T00:00:00",
          "2025-03-07T00:00:00",
          "2025-03-10T00:00:00",
          "2025-03-11T00:00:00",
          "2025-03-12T00:00:00",
          "2025-03-13T00:00:00",
          "2025-03-14T00:00:00",
          "2025-03-17T00:00:00",
          "2025-03-18T00:00:00",
          "2025-03-19T00:00:00",
          "2025-03-20T00:00:00",
          "2025-03-21T00:00:00",
          "2025-03-24T00:00:00",
          "2025-03-25T00:00:00",
          "2025-03-26T00:00:00",
          "2025-03-27T00:00:00",
          "2025-03-28T00:00:00",
          "2025-03-31T00:00:00",
          "2025-04-01T00:00:00",
          "2025-04-02T00:00:00",
          "2025-04-03T00:00:00",
          "2025-04-04T00:00:00",
          "2025-04-07T00:00:00",
          "2025-04-08T00:00:00",
          "2025-04-09T00:00:00",
          "2025-04-10T00:00:00",
          "2025-04-11T00:00:00",
          "2025-04-14T00:00:00",
          "2025-04-15T00:00:00",
          "2025-04-16T00:00:00",
          "2025-04-17T00:00:00",
          "2025-04-18T00:00:00",
          "2025-04-21T00:00:00",
          "2025-04-22T00:00:00",
          "2025-04-23T00:00:00",
          "2025-04-24T00:00:00",
          "2025-04-25T00:00:00",
          "2025-04-28T00:00:00",
          "2025-04-29T00:00:00",
          "2025-04-30T00:00:00",
          "2025-05-01T00:00:00",
          "2025-05-02T00:00:00",
          "2025-05-05T00:00:00",
          "2025-05-06T00:00:00",
          "2025-05-07T00:00:00",
          "2025-05-08T00:00:00",
          "2025-05-09T00:00:00",
          "2025-05-12T00:00:00",
          "2025-05-13T00:00:00",
          "2025-05-14T00:00:00",
          "2025-05-15T00:00:00",
          "2025-05-16T00:00:00",
          "2025-05-19T00:00:00",
          "2025-05-20T00:00:00",
          "2025-05-21T00:00:00",
          "2025-05-22T00:00:00"
         ],
         "xaxis": "x",
         "y": [
          98.36785888671875,
          98.348876953125,
          98.34254455566406,
          98.33621215820312,
          98.32987976074219,
          98.32354736328125,
          98.3045654296875,
          98.29824829101562,
          98.29191589355469,
          98.28558349609375,
          98.27926635742188,
          98.26026916503906,
          98.25393676757812,
          98.24761962890625,
          98.24128723144531,
          98.23495483398438,
          98.21597290039062,
          98.20964050292969,
          98.20330810546875,
          98.19699096679688,
          98.19065856933594,
          98.17167663574219,
          98.16534423828125,
          98.15902709960938,
          98.15269470214844,
          98.1463623046875,
          98.12738037109375,
          98.12104797363281,
          98.11473083496094,
          98.1083984375,
          98.10206604003906,
          98.08308410644531,
          98.07675170898438,
          98.07041931152344,
          98.06410217285156,
          98.05776977539062,
          98.03878784179688,
          98.03245544433594,
          98.026123046875,
          98.01980590820312,
          98.01347351074219,
          97.99449157714844,
          97.9881591796875,
          97.98182678222656,
          97.97550964355469,
          97.96917724609375,
          97.95018005371094,
          97.94386291503906,
          97.93753051757812,
          97.93119812011719,
          97.92488098144531,
          97.9058837890625,
          97.89956665039062,
          97.89323425292969,
          97.88690185546875,
          97.88056945800781,
          97.86158752441406,
          97.85527038574219,
          97.84893798828125,
          97.84260559082031,
          97.83627319335938,
          97.81729125976562,
          97.81095886230469,
          97.80464172363281,
          97.79830932617188,
          97.79197692871094,
          97.77299499511719,
          97.76666259765625,
          97.76033020019531,
          97.75401306152344,
          97.7476806640625,
          97.72869873046875,
          97.72236633300781,
          97.71603393554688,
          97.70970153808594,
          97.70338439941406,
          97.68440246582031,
          97.67807006835938,
          97.67173767089844,
          97.6654052734375,
          97.65908813476562,
          97.64009094238281,
          97.63377380371094,
          97.62744140625,
          97.62110900878906,
          97.61479187011719,
          97.59580993652344,
          97.5894775390625,
          97.58314514160156,
          97.57681274414062,
          97.57048034667969,
          97.55149841308594,
          97.54518127441406,
          97.53884887695312,
          97.53251647949219,
          97.52618408203125,
          97.5072021484375,
          97.50086975097656,
          97.49455261230469,
          97.48822021484375,
          97.48188781738281,
          97.46290588378906,
          97.45657348632812,
          97.45024108886719,
          97.44392395019531,
          97.43759155273438,
          97.41860961914062,
          97.41227722167969,
          97.40594482421875,
          97.39962768554688,
          97.39329528808594,
          97.37431335449219,
          97.36798095703125,
          97.36164855957031,
          97.35533142089844,
          97.3489990234375,
          97.33000183105469,
          97.32368469238281,
          97.31735229492188,
          97.31103515625,
          97.30470275878906,
          97.28570556640625,
          97.27938842773438,
          97.27305603027344,
          97.2667236328125,
          97.26040649414062,
          97.24142456054688,
          97.23509216308594,
          97.228759765625,
          97.22242736816406,
          97.21609497070312,
          97.19711303710938,
          97.1907958984375,
          97.18446350097656,
          97.17813110351562,
          97.17181396484375,
          97.15281677246094,
          97.146484375,
          97.14016723632812,
          97.13383483886719,
          97.12750244140625,
          97.1085205078125,
          97.10218811035156,
          97.09587097167969,
          97.08953857421875,
          97.08320617675781,
          97.06422424316406,
          97.05789184570312,
          97.05157470703125,
          97.04524230957031,
          97.03890991210938,
          97.01992797851562,
          97.01359558105469,
          97.00726318359375,
          97.00094604492188,
          96.99461364746094,
          96.97563171386719,
          96.96929931640625,
          96.96296691894531,
          96.95663452148438,
          96.9503173828125,
          96.93133544921875,
          96.92500305175781,
          96.91867065429688,
          96.912353515625,
          96.906005859375,
          96.88702392578125,
          96.88070678710938,
          96.87437438964844,
          96.8680419921875,
          96.86172485351562,
          96.84272766113281,
          96.83641052246094,
          96.830078125,
          96.82374572753906,
          96.81741333007812,
          96.79843139648438,
          96.7921142578125,
          96.78578186035156,
          96.77944946289062,
          96.77311706542969,
          96.75413513183594,
          96.747802734375,
          96.74148559570312,
          96.73515319824219,
          96.72882080078125,
          96.7098388671875,
          96.70350646972656,
          96.69717407226562,
          96.69085693359375,
          96.68452453613281,
          96.66554260253906,
          96.65921020507812,
          96.65287780761719,
          96.64654541015625,
          96.64022827148438,
          96.62124633789062,
          96.61491394042969,
          96.60859680175781,
          96.60226440429688,
          96.59593200683594,
          96.57695007324219,
          96.57061767578125,
          96.56428527832031,
          96.55796813964844,
          96.5516357421875,
          96.53265380859375,
          96.52632141113281,
          96.51998901367188,
          96.51365661621094,
          96.50733947753906,
          96.48835754394531,
          96.48202514648438,
          96.47569274902344,
          96.4693603515625,
          96.46302795410156,
          96.44404602050781,
          96.43772888183594,
          96.431396484375,
          96.42506408691406,
          96.41873168945312,
          96.39974975585938,
          96.39341735839844,
          96.38710021972656,
          96.38076782226562,
          96.37443542480469,
          96.35545349121094,
          96.34912109375,
          96.34278869628906,
          96.33647155761719,
          96.33013916015625,
          96.3111572265625,
          96.30482482910156,
          96.29849243164062,
          96.29217529296875,
          96.28584289550781,
          96.26686096191406,
          96.26052856445312,
          96.25419616699219,
          96.24787902832031,
          96.24154663085938,
          96.22254943847656,
          96.21623229980469,
          96.20989990234375,
          96.20356750488281,
          96.19725036621094,
          96.17825317382812,
          96.17193603515625,
          96.16560363769531,
          96.15927124023438,
          96.15293884277344,
          96.13395690917969,
          96.12763977050781,
          96.12130737304688,
          96.11497497558594,
          96.10865783691406,
          96.08966064453125,
          96.08332824707031,
          96.07701110839844,
          96.0706787109375,
          96.06434631347656,
          96.04536437988281,
          96.03903198242188,
          96.03271484375,
          96.02638244628906,
          96.02005004882812,
          96.00106811523438,
          95.99473571777344,
          95.98841857910156,
          95.98208618164062,
          95.97575378417969,
          95.95677185058594,
          95.950439453125,
          95.94412231445312,
          95.93778991699219,
          95.93145751953125,
          95.9124755859375,
          95.90614318847656,
          95.89981079101562,
          95.89349365234375,
          95.88716125488281,
          95.86817932128906,
          95.86184692382812,
          95.85551452636719,
          95.84918212890625,
          95.84284973144531,
          95.82388305664062,
          95.81755065917969,
          95.81121826171875,
          95.80490112304688,
          95.79855346679688,
          95.77957153320312,
          95.77325439453125,
          95.76692199707031,
          95.76058959960938,
          95.7542724609375,
          95.73527526855469,
          95.72895812988281,
          95.72262573242188,
          95.71629333496094
         ],
         "yaxis": "y"
        },
        {
         "line": {
          "color": "#2d92ff",
          "width": 2
         },
         "mode": "lines",
         "name": "yearly seasonality",
         "showlegend": false,
         "type": "scatter",
         "x": [
          "2024-03-29T00:00:00",
          "2024-04-01T00:00:00",
          "2024-04-02T00:00:00",
          "2024-04-03T00:00:00",
          "2024-04-04T00:00:00",
          "2024-04-05T00:00:00",
          "2024-04-08T00:00:00",
          "2024-04-09T00:00:00",
          "2024-04-10T00:00:00",
          "2024-04-11T00:00:00",
          "2024-04-12T00:00:00",
          "2024-04-15T00:00:00",
          "2024-04-16T00:00:00",
          "2024-04-17T00:00:00",
          "2024-04-18T00:00:00",
          "2024-04-19T00:00:00",
          "2024-04-22T00:00:00",
          "2024-04-23T00:00:00",
          "2024-04-24T00:00:00",
          "2024-04-25T00:00:00",
          "2024-04-26T00:00:00",
          "2024-04-29T00:00:00",
          "2024-04-30T00:00:00",
          "2024-05-01T00:00:00",
          "2024-05-02T00:00:00",
          "2024-05-03T00:00:00",
          "2024-05-06T00:00:00",
          "2024-05-07T00:00:00",
          "2024-05-08T00:00:00",
          "2024-05-09T00:00:00",
          "2024-05-10T00:00:00",
          "2024-05-13T00:00:00",
          "2024-05-14T00:00:00",
          "2024-05-15T00:00:00",
          "2024-05-16T00:00:00",
          "2024-05-17T00:00:00",
          "2024-05-20T00:00:00",
          "2024-05-21T00:00:00",
          "2024-05-22T00:00:00",
          "2024-05-23T00:00:00",
          "2024-05-24T00:00:00",
          "2024-05-27T00:00:00",
          "2024-05-28T00:00:00",
          "2024-05-29T00:00:00",
          "2024-05-30T00:00:00",
          "2024-05-31T00:00:00",
          "2024-06-03T00:00:00",
          "2024-06-04T00:00:00",
          "2024-06-05T00:00:00",
          "2024-06-06T00:00:00",
          "2024-06-07T00:00:00",
          "2024-06-10T00:00:00",
          "2024-06-11T00:00:00",
          "2024-06-12T00:00:00",
          "2024-06-13T00:00:00",
          "2024-06-14T00:00:00",
          "2024-06-17T00:00:00",
          "2024-06-18T00:00:00",
          "2024-06-19T00:00:00",
          "2024-06-20T00:00:00",
          "2024-06-21T00:00:00",
          "2024-06-24T00:00:00",
          "2024-06-25T00:00:00",
          "2024-06-26T00:00:00",
          "2024-06-27T00:00:00",
          "2024-06-28T00:00:00",
          "2024-07-01T00:00:00",
          "2024-07-02T00:00:00",
          "2024-07-03T00:00:00",
          "2024-07-04T00:00:00",
          "2024-07-05T00:00:00",
          "2024-07-08T00:00:00",
          "2024-07-09T00:00:00",
          "2024-07-10T00:00:00",
          "2024-07-11T00:00:00",
          "2024-07-12T00:00:00",
          "2024-07-15T00:00:00",
          "2024-07-16T00:00:00",
          "2024-07-17T00:00:00",
          "2024-07-18T00:00:00",
          "2024-07-19T00:00:00",
          "2024-07-22T00:00:00",
          "2024-07-23T00:00:00",
          "2024-07-24T00:00:00",
          "2024-07-25T00:00:00",
          "2024-07-26T00:00:00",
          "2024-07-29T00:00:00",
          "2024-07-30T00:00:00",
          "2024-07-31T00:00:00",
          "2024-08-01T00:00:00",
          "2024-08-02T00:00:00",
          "2024-08-05T00:00:00",
          "2024-08-06T00:00:00",
          "2024-08-07T00:00:00",
          "2024-08-08T00:00:00",
          "2024-08-09T00:00:00",
          "2024-08-12T00:00:00",
          "2024-08-13T00:00:00",
          "2024-08-14T00:00:00",
          "2024-08-15T00:00:00",
          "2024-08-16T00:00:00",
          "2024-08-19T00:00:00",
          "2024-08-20T00:00:00",
          "2024-08-21T00:00:00",
          "2024-08-22T00:00:00",
          "2024-08-23T00:00:00",
          "2024-08-26T00:00:00",
          "2024-08-27T00:00:00",
          "2024-08-28T00:00:00",
          "2024-08-29T00:00:00",
          "2024-08-30T00:00:00",
          "2024-09-02T00:00:00",
          "2024-09-03T00:00:00",
          "2024-09-04T00:00:00",
          "2024-09-05T00:00:00",
          "2024-09-06T00:00:00",
          "2024-09-09T00:00:00",
          "2024-09-10T00:00:00",
          "2024-09-11T00:00:00",
          "2024-09-12T00:00:00",
          "2024-09-13T00:00:00",
          "2024-09-16T00:00:00",
          "2024-09-17T00:00:00",
          "2024-09-18T00:00:00",
          "2024-09-19T00:00:00",
          "2024-09-20T00:00:00",
          "2024-09-23T00:00:00",
          "2024-09-24T00:00:00",
          "2024-09-25T00:00:00",
          "2024-09-26T00:00:00",
          "2024-09-27T00:00:00",
          "2024-09-30T00:00:00",
          "2024-10-01T00:00:00",
          "2024-10-02T00:00:00",
          "2024-10-03T00:00:00",
          "2024-10-04T00:00:00",
          "2024-10-07T00:00:00",
          "2024-10-08T00:00:00",
          "2024-10-09T00:00:00",
          "2024-10-10T00:00:00",
          "2024-10-11T00:00:00",
          "2024-10-14T00:00:00",
          "2024-10-15T00:00:00",
          "2024-10-16T00:00:00",
          "2024-10-17T00:00:00",
          "2024-10-18T00:00:00",
          "2024-10-21T00:00:00",
          "2024-10-22T00:00:00",
          "2024-10-23T00:00:00",
          "2024-10-24T00:00:00",
          "2024-10-25T00:00:00",
          "2024-10-28T00:00:00",
          "2024-10-29T00:00:00",
          "2024-10-30T00:00:00",
          "2024-10-31T00:00:00",
          "2024-11-01T00:00:00",
          "2024-11-04T00:00:00",
          "2024-11-05T00:00:00",
          "2024-11-06T00:00:00",
          "2024-11-07T00:00:00",
          "2024-11-08T00:00:00",
          "2024-11-11T00:00:00",
          "2024-11-12T00:00:00",
          "2024-11-13T00:00:00",
          "2024-11-14T00:00:00",
          "2024-11-15T00:00:00",
          "2024-11-18T00:00:00",
          "2024-11-19T00:00:00",
          "2024-11-20T00:00:00",
          "2024-11-21T00:00:00",
          "2024-11-22T00:00:00",
          "2024-11-25T00:00:00",
          "2024-11-26T00:00:00",
          "2024-11-27T00:00:00",
          "2024-11-28T00:00:00",
          "2024-11-29T00:00:00",
          "2024-12-02T00:00:00",
          "2024-12-03T00:00:00",
          "2024-12-04T00:00:00",
          "2024-12-05T00:00:00",
          "2024-12-06T00:00:00",
          "2024-12-09T00:00:00",
          "2024-12-10T00:00:00",
          "2024-12-11T00:00:00",
          "2024-12-12T00:00:00",
          "2024-12-13T00:00:00",
          "2024-12-16T00:00:00",
          "2024-12-17T00:00:00",
          "2024-12-18T00:00:00",
          "2024-12-19T00:00:00",
          "2024-12-20T00:00:00",
          "2024-12-23T00:00:00",
          "2024-12-24T00:00:00",
          "2024-12-25T00:00:00",
          "2024-12-26T00:00:00",
          "2024-12-27T00:00:00",
          "2024-12-30T00:00:00",
          "2024-12-31T00:00:00",
          "2025-01-01T00:00:00",
          "2025-01-02T00:00:00",
          "2025-01-03T00:00:00",
          "2025-01-06T00:00:00",
          "2025-01-07T00:00:00",
          "2025-01-08T00:00:00",
          "2025-01-09T00:00:00",
          "2025-01-10T00:00:00",
          "2025-01-13T00:00:00",
          "2025-01-14T00:00:00",
          "2025-01-15T00:00:00",
          "2025-01-16T00:00:00",
          "2025-01-17T00:00:00",
          "2025-01-20T00:00:00",
          "2025-01-21T00:00:00",
          "2025-01-22T00:00:00",
          "2025-01-23T00:00:00",
          "2025-01-24T00:00:00",
          "2025-01-27T00:00:00",
          "2025-01-28T00:00:00",
          "2025-01-29T00:00:00",
          "2025-01-30T00:00:00",
          "2025-01-31T00:00:00",
          "2025-02-03T00:00:00",
          "2025-02-04T00:00:00",
          "2025-02-05T00:00:00",
          "2025-02-06T00:00:00",
          "2025-02-07T00:00:00",
          "2025-02-10T00:00:00",
          "2025-02-11T00:00:00",
          "2025-02-12T00:00:00",
          "2025-02-13T00:00:00",
          "2025-02-14T00:00:00",
          "2025-02-17T00:00:00",
          "2025-02-18T00:00:00",
          "2025-02-19T00:00:00",
          "2025-02-20T00:00:00",
          "2025-02-21T00:00:00",
          "2025-02-24T00:00:00",
          "2025-02-25T00:00:00",
          "2025-02-26T00:00:00",
          "2025-02-27T00:00:00",
          "2025-02-28T00:00:00",
          "2025-03-03T00:00:00",
          "2025-03-04T00:00:00",
          "2025-03-05T00:00:00",
          "2025-03-06T00:00:00",
          "2025-03-07T00:00:00",
          "2025-03-10T00:00:00",
          "2025-03-11T00:00:00",
          "2025-03-12T00:00:00",
          "2025-03-13T00:00:00",
          "2025-03-14T00:00:00",
          "2025-03-17T00:00:00",
          "2025-03-18T00:00:00",
          "2025-03-19T00:00:00",
          "2025-03-20T00:00:00",
          "2025-03-21T00:00:00",
          "2025-03-24T00:00:00",
          "2025-03-25T00:00:00",
          "2025-03-26T00:00:00",
          "2025-03-27T00:00:00",
          "2025-03-28T00:00:00",
          "2025-03-31T00:00:00",
          "2025-04-01T00:00:00",
          "2025-04-02T00:00:00",
          "2025-04-03T00:00:00",
          "2025-04-04T00:00:00",
          "2025-04-07T00:00:00",
          "2025-04-08T00:00:00",
          "2025-04-09T00:00:00",
          "2025-04-10T00:00:00",
          "2025-04-11T00:00:00",
          "2025-04-14T00:00:00",
          "2025-04-15T00:00:00",
          "2025-04-16T00:00:00",
          "2025-04-17T00:00:00",
          "2025-04-18T00:00:00",
          "2025-04-21T00:00:00",
          "2025-04-22T00:00:00",
          "2025-04-23T00:00:00",
          "2025-04-24T00:00:00",
          "2025-04-25T00:00:00",
          "2025-04-28T00:00:00",
          "2025-04-29T00:00:00",
          "2025-04-30T00:00:00",
          "2025-05-01T00:00:00",
          "2025-05-02T00:00:00",
          "2025-05-05T00:00:00",
          "2025-05-06T00:00:00",
          "2025-05-07T00:00:00",
          "2025-05-08T00:00:00",
          "2025-05-09T00:00:00",
          "2025-05-12T00:00:00",
          "2025-05-13T00:00:00",
          "2025-05-14T00:00:00",
          "2025-05-15T00:00:00",
          "2025-05-16T00:00:00",
          "2025-05-19T00:00:00",
          "2025-05-20T00:00:00",
          "2025-05-21T00:00:00",
          "2025-05-22T00:00:00"
         ],
         "xaxis": "x2",
         "y": [
          -0.2556649446487427,
          -0.3238935172557831,
          -0.3628062307834625,
          -0.4102444350719452,
          -0.46608707308769226,
          -0.5305538773536682,
          -0.7718266248703003,
          -0.8671801090240479,
          -0.9690967798233032,
          -1.0770409107208252,
          -1.1902093887329102,
          -1.553195834159851,
          -1.6788151264190674,
          -1.8054442405700684,
          -1.931842565536499,
          -2.0570030212402344,
          -2.414680242538452,
          -2.524689197540283,
          -2.6286919116973877,
          -2.7254927158355713,
          -2.8143837451934814,
          -3.026686668395996,
          -3.0773394107818604,
          -3.1171646118164062,
          -3.145787239074707,
          -3.1629042625427246,
          -3.1458935737609863,
          -3.1175360679626465,
          -3.0784599781036377,
          -3.028822422027588,
          -2.969376802444458,
          -2.7379212379455566,
          -2.6456186771392822,
          -2.5473721027374268,
          -2.44374418258667,
          -2.336312770843506,
          -1.999595284461975,
          -1.886236310005188,
          -1.7740756273269653,
          -1.6642216444015503,
          -1.557898998260498,
          -1.2679556608200073,
          -1.1840429306030273,
          -1.1079903841018677,
          -1.0399255752563477,
          -0.9808108806610107,
          -0.8604846000671387,
          -0.8402079343795776,
          -0.8298355937004089,
          -0.8294939994812012,
          -0.8388266563415527,
          -0.9215760231018066,
          -0.9657109379768372,
          -1.017071008682251,
          -1.0747979879379272,
          -1.1380349397659302,
          -1.3510266542434692,
          -1.4264250993728638,
          -1.5019936561584473,
          -1.576948642730713,
          -1.6499751806259155,
          -1.8460917472839355,
          -1.9002165794372559,
          -1.9470422267913818,
          -1.9855031967163086,
          -2.014838695526123,
          -2.0401089191436768,
          -2.025456190109253,
          -1.9983652830123901,
          -1.9587575197219849,
          -1.9061079025268555,
          -1.6701674461364746,
          -1.5656821727752686,
          -1.4488654136657715,
          -1.3204528093338013,
          -1.1801990270614624,
          -0.6982252597808838,
          -0.5196518898010254,
          -0.33383768796920776,
          -0.1416601985692978,
          0.056223511695861816,
          0.6689492464065552,
          0.8759391903877258,
          1.0823787450790405,
          1.2872505187988281,
          1.488961935043335,
          2.065413475036621,
          2.2444865703582764,
          2.415311574935913,
          2.576892137527466,
          2.7284793853759766,
          3.1169002056121826,
          3.222410202026367,
          3.3149819374084473,
          3.394714593887329,
          3.461148977279663,
          3.5803380012512207,
          3.593764305114746,
          3.5943098068237305,
          3.582288980484009,
          3.558122158050537,
          3.4182088375091553,
          3.350857734680176,
          3.274250030517578,
          3.189091682434082,
          3.0963268280029297,
          2.7779321670532227,
          2.6613869667053223,
          2.540386915206909,
          2.416243076324463,
          2.2894489765167236,
          1.8993654251098633,
          1.7682892084121704,
          1.6373909711837769,
          1.5072712898254395,
          1.378312110900879,
          1.0022633075714111,
          0.8814916610717773,
          0.763159990310669,
          0.6476572155952454,
          0.534438967704773,
          0.21315327286720276,
          0.11184641718864441,
          0.01296006329357624,
          -0.08283266425132751,
          -0.17640383541584015,
          -0.4415958523750305,
          -0.5255065560340881,
          -0.607140064239502,
          -0.6864895224571228,
          -0.76386559009552,
          -0.9831176996231079,
          -1.0518110990524292,
          -1.118093729019165,
          -1.1819865703582764,
          -1.2432241439819336,
          -1.4087249040603638,
          -1.4572069644927979,
          -1.5015506744384766,
          -1.5418455600738525,
          -1.577561378479004,
          -1.6539167165756226,
          -1.6679823398590088,
          -1.6759897470474243,
          -1.6770490407943726,
          -1.6716817617416382,
          -1.6114816665649414,
          -1.576281189918518,
          -1.5333027839660645,
          -1.4825741052627563,
          -1.4240483045578003,
          -1.202441930770874,
          -1.1138848066329956,
          -1.0186002254486084,
          -0.9168095588684082,
          -0.8091403841972351,
          -0.4555921256542206,
          -0.3298415541648865,
          -0.20115694403648376,
          -0.07071051746606827,
          0.06113236024975777,
          0.45511868596076965,
          0.5826542973518372,
          0.707243025302887,
          0.8275839686393738,
          0.9428681135177612,
          1.2494961023330688,
          1.3359415531158447,
          1.4138531684875488,
          1.481651782989502,
          1.5395667552947998,
          1.647584080696106,
          1.6608408689498901,
          1.662412166595459,
          1.6523935794830322,
          1.6305556297302246,
          1.498523473739624,
          1.4332916736602783,
          1.358652114868164,
          1.2749683856964111,
          1.1830503940582275,
          0.8672449588775635,
          0.7518236041069031,
          0.6332384347915649,
          0.5122683048248291,
          0.39059069752693176,
          0.031363196671009064,
          -0.08247072994709015,
          -0.1913352608680725,
          -0.294158935546875,
          -0.3896048069000244,
          -0.623843789100647,
          -0.6814675331115723,
          -0.7273015379905701,
          -0.7611374855041504,
          -0.7823287844657898,
          -0.7669821381568909,
          -0.7348042130470276,
          -0.689192533493042,
          -0.6304884552955627,
          -0.5587259531021118,
          -0.27082160115242004,
          -0.1527474969625473,
          -0.025060009211301804,
          0.11143025010824203,
          0.25543561577796936,
          0.7224684953689575,
          0.8858579397201538,
          1.0507118701934814,
          1.2159570455551147,
          1.3801599740982056,
          1.8541425466537476,
          2.0015313625335693,
          2.141814708709717,
          2.273472309112549,
          2.3960981369018555,
          2.6977932453155518,
          2.7740769386291504,
          2.837092638015747,
          2.8863062858581543,
          2.9216902256011963,
          2.942234516143799,
          2.9206511974334717,
          2.885410785675049,
          2.836763381958008,
          2.775110960006714,
          2.5193538665771484,
          2.413175106048584,
          2.297886848449707,
          2.1747989654541016,
          2.0445523262023926,
          1.6242951154708862,
          1.4781936407089233,
          1.3307347297668457,
          1.183441400527954,
          1.0370604991912842,
          0.6162161231040955,
          0.48495787382125854,
          0.3597589433193207,
          0.24156668782234192,
          0.13064275681972504,
          -0.15174266695976257,
          -0.22807568311691284,
          -0.29475855827331543,
          -0.352222204208374,
          -0.4006046652793884,
          -0.4911774694919586,
          -0.5049093961715698,
          -0.5107643008232117,
          -0.5099185705184937,
          -0.5028990507125854,
          -0.45264601707458496,
          -0.42949938774108887,
          -0.4039561450481415,
          -0.37776076793670654,
          -0.35172173380851746,
          -0.28306013345718384,
          -0.26662522554397583,
          -0.2545820474624634,
          -0.2479509711265564,
          -0.24718670547008514,
          -0.2866717278957367,
          -0.3153429925441742,
          -0.3523372709751129,
          -0.397661954164505,
          -0.4513724744319916,
          -0.6628005504608154,
          -0.7490857243537903,
          -0.8427410125732422,
          -0.9430787563323975,
          -1.0494961738586426,
          -1.3984395265579224,
          -1.5221115350723267,
          -1.647275686264038,
          -1.7738782167434692,
          -1.900449275970459,
          -2.269922971725464,
          -2.386356830596924,
          -2.4975996017456055,
          -2.6032309532165527,
          -2.701878309249878,
          -2.948723316192627,
          -3.0124340057373047,
          -3.0657382011413574,
          -3.1082193851470947,
          -3.1396563053131104,
          -3.1654393672943115,
          -3.151218891143799,
          -3.125676155090332,
          -3.089278221130371,
          -3.0421180725097656,
          -2.843296766281128,
          -2.7598791122436523,
          -2.6692280769348145,
          -2.5724878311157227,
          -2.4701735973358154,
          -2.141429901123047,
          -2.0279722213745117,
          -1.914470911026001,
          -1.8019273281097412
         ],
         "yaxis": "y2"
        },
        {
         "line": {
          "color": "#2d92ff",
          "width": 2
         },
         "mode": "lines",
         "name": "weekly seasonality",
         "showlegend": false,
         "type": "scatter",
         "x": [
          "2024-03-29T00:00:00",
          "2024-04-01T00:00:00",
          "2024-04-02T00:00:00",
          "2024-04-03T00:00:00",
          "2024-04-04T00:00:00",
          "2024-04-05T00:00:00",
          "2024-04-08T00:00:00",
          "2024-04-09T00:00:00",
          "2024-04-10T00:00:00",
          "2024-04-11T00:00:00",
          "2024-04-12T00:00:00",
          "2024-04-15T00:00:00",
          "2024-04-16T00:00:00",
          "2024-04-17T00:00:00",
          "2024-04-18T00:00:00",
          "2024-04-19T00:00:00",
          "2024-04-22T00:00:00",
          "2024-04-23T00:00:00",
          "2024-04-24T00:00:00",
          "2024-04-25T00:00:00",
          "2024-04-26T00:00:00",
          "2024-04-29T00:00:00",
          "2024-04-30T00:00:00",
          "2024-05-01T00:00:00",
          "2024-05-02T00:00:00",
          "2024-05-03T00:00:00",
          "2024-05-06T00:00:00",
          "2024-05-07T00:00:00",
          "2024-05-08T00:00:00",
          "2024-05-09T00:00:00",
          "2024-05-10T00:00:00",
          "2024-05-13T00:00:00",
          "2024-05-14T00:00:00",
          "2024-05-15T00:00:00",
          "2024-05-16T00:00:00",
          "2024-05-17T00:00:00",
          "2024-05-20T00:00:00",
          "2024-05-21T00:00:00",
          "2024-05-22T00:00:00",
          "2024-05-23T00:00:00",
          "2024-05-24T00:00:00",
          "2024-05-27T00:00:00",
          "2024-05-28T00:00:00",
          "2024-05-29T00:00:00",
          "2024-05-30T00:00:00",
          "2024-05-31T00:00:00",
          "2024-06-03T00:00:00",
          "2024-06-04T00:00:00",
          "2024-06-05T00:00:00",
          "2024-06-06T00:00:00",
          "2024-06-07T00:00:00",
          "2024-06-10T00:00:00",
          "2024-06-11T00:00:00",
          "2024-06-12T00:00:00",
          "2024-06-13T00:00:00",
          "2024-06-14T00:00:00",
          "2024-06-17T00:00:00",
          "2024-06-18T00:00:00",
          "2024-06-19T00:00:00",
          "2024-06-20T00:00:00",
          "2024-06-21T00:00:00",
          "2024-06-24T00:00:00",
          "2024-06-25T00:00:00",
          "2024-06-26T00:00:00",
          "2024-06-27T00:00:00",
          "2024-06-28T00:00:00",
          "2024-07-01T00:00:00",
          "2024-07-02T00:00:00",
          "2024-07-03T00:00:00",
          "2024-07-04T00:00:00",
          "2024-07-05T00:00:00",
          "2024-07-08T00:00:00",
          "2024-07-09T00:00:00",
          "2024-07-10T00:00:00",
          "2024-07-11T00:00:00",
          "2024-07-12T00:00:00",
          "2024-07-15T00:00:00",
          "2024-07-16T00:00:00",
          "2024-07-17T00:00:00",
          "2024-07-18T00:00:00",
          "2024-07-19T00:00:00",
          "2024-07-22T00:00:00",
          "2024-07-23T00:00:00",
          "2024-07-24T00:00:00",
          "2024-07-25T00:00:00",
          "2024-07-26T00:00:00",
          "2024-07-29T00:00:00",
          "2024-07-30T00:00:00",
          "2024-07-31T00:00:00",
          "2024-08-01T00:00:00",
          "2024-08-02T00:00:00",
          "2024-08-05T00:00:00",
          "2024-08-06T00:00:00",
          "2024-08-07T00:00:00",
          "2024-08-08T00:00:00",
          "2024-08-09T00:00:00",
          "2024-08-12T00:00:00",
          "2024-08-13T00:00:00",
          "2024-08-14T00:00:00",
          "2024-08-15T00:00:00",
          "2024-08-16T00:00:00",
          "2024-08-19T00:00:00",
          "2024-08-20T00:00:00",
          "2024-08-21T00:00:00",
          "2024-08-22T00:00:00",
          "2024-08-23T00:00:00",
          "2024-08-26T00:00:00",
          "2024-08-27T00:00:00",
          "2024-08-28T00:00:00",
          "2024-08-29T00:00:00",
          "2024-08-30T00:00:00",
          "2024-09-02T00:00:00",
          "2024-09-03T00:00:00",
          "2024-09-04T00:00:00",
          "2024-09-05T00:00:00",
          "2024-09-06T00:00:00",
          "2024-09-09T00:00:00",
          "2024-09-10T00:00:00",
          "2024-09-11T00:00:00",
          "2024-09-12T00:00:00",
          "2024-09-13T00:00:00",
          "2024-09-16T00:00:00",
          "2024-09-17T00:00:00",
          "2024-09-18T00:00:00",
          "2024-09-19T00:00:00",
          "2024-09-20T00:00:00",
          "2024-09-23T00:00:00",
          "2024-09-24T00:00:00",
          "2024-09-25T00:00:00",
          "2024-09-26T00:00:00",
          "2024-09-27T00:00:00",
          "2024-09-30T00:00:00",
          "2024-10-01T00:00:00",
          "2024-10-02T00:00:00",
          "2024-10-03T00:00:00",
          "2024-10-04T00:00:00",
          "2024-10-07T00:00:00",
          "2024-10-08T00:00:00",
          "2024-10-09T00:00:00",
          "2024-10-10T00:00:00",
          "2024-10-11T00:00:00",
          "2024-10-14T00:00:00",
          "2024-10-15T00:00:00",
          "2024-10-16T00:00:00",
          "2024-10-17T00:00:00",
          "2024-10-18T00:00:00",
          "2024-10-21T00:00:00",
          "2024-10-22T00:00:00",
          "2024-10-23T00:00:00",
          "2024-10-24T00:00:00",
          "2024-10-25T00:00:00",
          "2024-10-28T00:00:00",
          "2024-10-29T00:00:00",
          "2024-10-30T00:00:00",
          "2024-10-31T00:00:00",
          "2024-11-01T00:00:00",
          "2024-11-04T00:00:00",
          "2024-11-05T00:00:00",
          "2024-11-06T00:00:00",
          "2024-11-07T00:00:00",
          "2024-11-08T00:00:00",
          "2024-11-11T00:00:00",
          "2024-11-12T00:00:00",
          "2024-11-13T00:00:00",
          "2024-11-14T00:00:00",
          "2024-11-15T00:00:00",
          "2024-11-18T00:00:00",
          "2024-11-19T00:00:00",
          "2024-11-20T00:00:00",
          "2024-11-21T00:00:00",
          "2024-11-22T00:00:00",
          "2024-11-25T00:00:00",
          "2024-11-26T00:00:00",
          "2024-11-27T00:00:00",
          "2024-11-28T00:00:00",
          "2024-11-29T00:00:00",
          "2024-12-02T00:00:00",
          "2024-12-03T00:00:00",
          "2024-12-04T00:00:00",
          "2024-12-05T00:00:00",
          "2024-12-06T00:00:00",
          "2024-12-09T00:00:00",
          "2024-12-10T00:00:00",
          "2024-12-11T00:00:00",
          "2024-12-12T00:00:00",
          "2024-12-13T00:00:00",
          "2024-12-16T00:00:00",
          "2024-12-17T00:00:00",
          "2024-12-18T00:00:00",
          "2024-12-19T00:00:00",
          "2024-12-20T00:00:00",
          "2024-12-23T00:00:00",
          "2024-12-24T00:00:00",
          "2024-12-25T00:00:00",
          "2024-12-26T00:00:00",
          "2024-12-27T00:00:00",
          "2024-12-30T00:00:00",
          "2024-12-31T00:00:00",
          "2025-01-01T00:00:00",
          "2025-01-02T00:00:00",
          "2025-01-03T00:00:00",
          "2025-01-06T00:00:00",
          "2025-01-07T00:00:00",
          "2025-01-08T00:00:00",
          "2025-01-09T00:00:00",
          "2025-01-10T00:00:00",
          "2025-01-13T00:00:00",
          "2025-01-14T00:00:00",
          "2025-01-15T00:00:00",
          "2025-01-16T00:00:00",
          "2025-01-17T00:00:00",
          "2025-01-20T00:00:00",
          "2025-01-21T00:00:00",
          "2025-01-22T00:00:00",
          "2025-01-23T00:00:00",
          "2025-01-24T00:00:00",
          "2025-01-27T00:00:00",
          "2025-01-28T00:00:00",
          "2025-01-29T00:00:00",
          "2025-01-30T00:00:00",
          "2025-01-31T00:00:00",
          "2025-02-03T00:00:00",
          "2025-02-04T00:00:00",
          "2025-02-05T00:00:00",
          "2025-02-06T00:00:00",
          "2025-02-07T00:00:00",
          "2025-02-10T00:00:00",
          "2025-02-11T00:00:00",
          "2025-02-12T00:00:00",
          "2025-02-13T00:00:00",
          "2025-02-14T00:00:00",
          "2025-02-17T00:00:00",
          "2025-02-18T00:00:00",
          "2025-02-19T00:00:00",
          "2025-02-20T00:00:00",
          "2025-02-21T00:00:00",
          "2025-02-24T00:00:00",
          "2025-02-25T00:00:00",
          "2025-02-26T00:00:00",
          "2025-02-27T00:00:00",
          "2025-02-28T00:00:00",
          "2025-03-03T00:00:00",
          "2025-03-04T00:00:00",
          "2025-03-05T00:00:00",
          "2025-03-06T00:00:00",
          "2025-03-07T00:00:00",
          "2025-03-10T00:00:00",
          "2025-03-11T00:00:00",
          "2025-03-12T00:00:00",
          "2025-03-13T00:00:00",
          "2025-03-14T00:00:00",
          "2025-03-17T00:00:00",
          "2025-03-18T00:00:00",
          "2025-03-19T00:00:00",
          "2025-03-20T00:00:00",
          "2025-03-21T00:00:00",
          "2025-03-24T00:00:00",
          "2025-03-25T00:00:00",
          "2025-03-26T00:00:00",
          "2025-03-27T00:00:00",
          "2025-03-28T00:00:00",
          "2025-03-31T00:00:00",
          "2025-04-01T00:00:00",
          "2025-04-02T00:00:00",
          "2025-04-03T00:00:00",
          "2025-04-04T00:00:00",
          "2025-04-07T00:00:00",
          "2025-04-08T00:00:00",
          "2025-04-09T00:00:00",
          "2025-04-10T00:00:00",
          "2025-04-11T00:00:00",
          "2025-04-14T00:00:00",
          "2025-04-15T00:00:00",
          "2025-04-16T00:00:00",
          "2025-04-17T00:00:00",
          "2025-04-18T00:00:00",
          "2025-04-21T00:00:00",
          "2025-04-22T00:00:00",
          "2025-04-23T00:00:00",
          "2025-04-24T00:00:00",
          "2025-04-25T00:00:00",
          "2025-04-28T00:00:00",
          "2025-04-29T00:00:00",
          "2025-04-30T00:00:00",
          "2025-05-01T00:00:00",
          "2025-05-02T00:00:00",
          "2025-05-05T00:00:00",
          "2025-05-06T00:00:00",
          "2025-05-07T00:00:00",
          "2025-05-08T00:00:00",
          "2025-05-09T00:00:00",
          "2025-05-12T00:00:00",
          "2025-05-13T00:00:00",
          "2025-05-14T00:00:00",
          "2025-05-15T00:00:00",
          "2025-05-16T00:00:00",
          "2025-05-19T00:00:00",
          "2025-05-20T00:00:00",
          "2025-05-21T00:00:00",
          "2025-05-22T00:00:00"
         ],
         "xaxis": "x3",
         "y": [
          22.53501319885254,
          22.350540161132812,
          22.41119956970215,
          22.649497985839844,
          22.299226760864258,
          22.484355926513672,
          22.21284294128418,
          22.366029739379883,
          22.5922908782959,
          22.359262466430664,
          22.433761596679688,
          22.39737892150879,
          22.408655166625977,
          22.53504753112793,
          22.41928482055664,
          22.589723587036133,
          22.37886619567871,
          22.451366424560547,
          22.594242095947266,
          22.317073822021484,
          22.538997650146484,
          22.360246658325195,
          22.40612030029297,
          22.65340232849121,
          22.295528411865234,
          22.488332748413086,
          22.180784225463867,
          22.360960006713867,
          22.59619903564453,
          22.35556411743164,
          22.540987014770508,
          22.40706443786621,
          22.403581619262695,
          22.538955688476562,
          22.29368019104004,
          22.490324020385742,
          22.388566970825195,
          22.358428955078125,
          22.598146438598633,
          22.435319900512695,
          22.439720153808594,
          22.411903381347656,
          22.40104103088379,
          22.540910720825195,
          22.413745880126953,
          22.49231719970703,
          22.19049072265625,
          22.443735122680664,
          22.483633041381836,
          22.22992706298828,
          22.544981002807617,
          22.374820709228516,
          22.486509323120117,
          22.65925407409668,
          22.289979934692383,
          22.494304656982422,
          22.439973831176758,
          22.353361129760742,
          22.602052688598633,
          22.431621551513672,
          22.443693161010742,
          22.421592712402344,
          22.395965576171875,
          22.544818878173828,
          22.410049438476562,
          22.49629783630371,
          22.20018768310547,
          22.43865394592285,
          22.60400390625,
          22.348169326782227,
          22.548967361450195,
          22.3845272064209,
          22.393428802490234,
          22.546775817871094,
          22.28628158569336,
          22.498287200927734,
          22.407962799072266,
          22.43610954284668,
          22.6059627532959,
          22.42793083190918,
          22.55095863342285,
          22.389385223388672,
          22.390886306762695,
          22.548730850219727,
          22.28443145751953,
          22.500280380249023,
          22.209890365600586,
          22.34575843811035,
          22.607912063598633,
          22.34447479248047,
          22.449655532836914,
          22.436120986938477,
          22.388351440429688,
          22.61834716796875,
          22.404502868652344,
          22.399093627929688,
          22.417659759521484,
          22.431020736694336,
          22.493419647216797,
          22.220674514770508,
          22.554946899414062,
          22.196168899536133,
          22.473773956298828,
          22.669004440307617,
          22.280731201171875,
          22.504261016845703,
          22.219585418701172,
          22.3406925201416,
          22.61181640625,
          22.340778350830078,
          22.453628540039062,
          22.44580078125,
          22.383275985717773,
          22.62224769592285,
          22.400802612304688,
          22.506248474121094,
          22.42735481262207,
          22.42593765258789,
          22.613773345947266,
          22.338926315307617,
          22.455615997314453,
          22.205883026123047,
          22.380735397338867,
          22.556550979614258,
          22.398958206176758,
          22.50823974609375,
          22.22928810119629,
          22.42339515686035,
          22.499290466308594,
          22.337078094482422,
          22.560932159423828,
          22.413644790649414,
          22.46613121032715,
          22.626150131225586,
          22.275184631347656,
          22.510229110717773,
          22.394989013671875,
          22.333091735839844,
          22.617677688598633,
          22.33523178100586,
          22.459590911865234,
          22.257413864135742,
          22.375659942626953,
          22.560462951660156,
          22.395263671875,
          22.409013748168945,
          22.238983154296875,
          22.418312072753906,
          22.503206253051758,
          22.3333797454834,
          22.56492042541504,
          22.42334747314453,
          22.46103858947754,
          22.630043029785156,
          22.271486282348633,
          22.514211654663086,
          22.446733474731445,
          22.415767669677734,
          22.621585845947266,
          22.33153533935547,
          22.463563919067383,
          22.225309371948242,
          22.370586395263672,
          22.564363479614258,
          22.391565322875977,
          22.516202926635742,
          22.248680114746094,
          22.413227081298828,
          22.691158294677734,
          22.329679489135742,
          22.465551376342773,
          22.43305015563965,
          22.36804962158203,
          22.633949279785156,
          22.38971710205078,
          22.414960861206055,
          22.253524780273438,
          22.410688400268555,
          22.50907325744629,
          22.449737548828125,
          22.616575241088867,
          22.23500633239746,
          22.453397750854492,
          22.451791763305664,
          22.265932083129883,
          22.520179748535156,
          22.216379165649414,
          22.3204288482666,
          22.695053100585938,
          22.325984954833984,
          22.46952247619629,
          22.484516143798828,
          22.36297607421875,
          22.637845993041992,
          22.386018753051758,
          22.41892433166504,
          22.263219833374023,
          22.405603408813477,
          22.512990951538086,
          22.324134826660156,
          22.5172061920166,
          22.244712829589844,
          22.448307037353516,
          22.572185516357422,
          22.38417625427246,
          22.524160385131836,
          22.26806640625,
          22.403059005737305,
          22.582550048828125,
          22.322284698486328,
          22.47349739074707,
          22.452455520629883,
          22.44576072692871,
          22.64174461364746,
          22.382326126098633,
          22.526153564453125,
          22.2309513092041,
          22.40052032470703,
          22.63330078125,
          22.32044219970703,
          22.521203994750977,
          22.254409790039062,
          22.355363845825195,
          22.57609748840332,
          22.380477905273438,
          22.42487907409668,
          22.27775764465332,
          22.397974014282227,
          22.586456298828125,
          22.440500259399414,
          22.580867767333984,
          22.46215057373047,
          22.4406681060791,
          22.52918243408203,
          22.25668716430664,
          22.53013801574707,
          22.24066925048828,
          22.395435333251953,
          22.63720703125,
          22.316743850708008,
          22.525190353393555,
          22.264116287231445,
          22.35028839111328,
          22.647592544555664,
          22.376779556274414,
          22.42884635925293,
          22.28744888305664,
          22.39289093017578,
          22.590362548828125,
          22.31489372253418,
          22.481449127197266,
          22.268957138061523,
          22.435579299926758,
          22.64954376220703,
          22.37493324279785,
          22.476572036743164,
          22.292285919189453,
          22.39035415649414,
          22.524730682373047,
          22.434955596923828,
          22.529186248779297,
          22.27381706237793,
          22.433029174804688,
          22.5350399017334,
          22.373083114624023,
          22.53610610961914,
          22.255231857299805,
          22.475788116455078,
          22.710636138916016,
          22.311195373535156,
          22.48542022705078,
          22.23655128479004,
          22.342679977416992,
          22.653444290161133,
          22.37123680114746,
          22.480562210083008,
          22.301971435546875,
          22.385271072387695,
          22.528636932373047,
          22.43126678466797,
          22.53318214416504,
          22.283512115478516,
          22.42793846130371,
          22.538949966430664,
          22.3693904876709,
          22.54008674621582,
          22.264942169189453,
          22.382726669311523,
          22.59816551208496,
          22.3074951171875,
          22.48939323425293,
          22.288362503051758,
          22.42539405822754,
          22.6573429107666,
          22.367538452148438,
          22.48455238342285,
          22.269794464111328,
          22.380189895629883,
          22.532560348510742,
          22.305648803710938
         ],
         "yaxis": "y3"
        }
       ],
       "layout": {
        "autosize": true,
        "font": {
         "size": 10
        },
        "height": 630,
        "hovermode": "x unified",
        "legend": {
         "traceorder": "reversed",
         "y": 0.1
        },
        "margin": {
         "b": 0,
         "l": 0,
         "pad": 0,
         "r": 10,
         "t": 10
        },
        "template": {
         "data": {
          "bar": [
           {
            "error_x": {
             "color": "#2a3f5f"
            },
            "error_y": {
             "color": "#2a3f5f"
            },
            "marker": {
             "line": {
              "color": "white",
              "width": 0.5
             },
             "pattern": {
              "fillmode": "overlay",
              "size": 10,
              "solidity": 0.2
             }
            },
            "type": "bar"
           }
          ],
          "barpolar": [
           {
            "marker": {
             "line": {
              "color": "white",
              "width": 0.5
             },
             "pattern": {
              "fillmode": "overlay",
              "size": 10,
              "solidity": 0.2
             }
            },
            "type": "barpolar"
           }
          ],
          "carpet": [
           {
            "aaxis": {
             "endlinecolor": "#2a3f5f",
             "gridcolor": "#C8D4E3",
             "linecolor": "#C8D4E3",
             "minorgridcolor": "#C8D4E3",
             "startlinecolor": "#2a3f5f"
            },
            "baxis": {
             "endlinecolor": "#2a3f5f",
             "gridcolor": "#C8D4E3",
             "linecolor": "#C8D4E3",
             "minorgridcolor": "#C8D4E3",
             "startlinecolor": "#2a3f5f"
            },
            "type": "carpet"
           }
          ],
          "choropleth": [
           {
            "colorbar": {
             "outlinewidth": 0,
             "ticks": ""
            },
            "type": "choropleth"
           }
          ],
          "contour": [
           {
            "colorbar": {
             "outlinewidth": 0,
             "ticks": ""
            },
            "colorscale": [
             [
              0,
              "#0d0887"
             ],
             [
              0.1111111111111111,
              "#46039f"
             ],
             [
              0.2222222222222222,
              "#7201a8"
             ],
             [
              0.3333333333333333,
              "#9c179e"
             ],
             [
              0.4444444444444444,
              "#bd3786"
             ],
             [
              0.5555555555555556,
              "#d8576b"
             ],
             [
              0.6666666666666666,
              "#ed7953"
             ],
             [
              0.7777777777777778,
              "#fb9f3a"
             ],
             [
              0.8888888888888888,
              "#fdca26"
             ],
             [
              1,
              "#f0f921"
             ]
            ],
            "type": "contour"
           }
          ],
          "contourcarpet": [
           {
            "colorbar": {
             "outlinewidth": 0,
             "ticks": ""
            },
            "type": "contourcarpet"
           }
          ],
          "heatmap": [
           {
            "colorbar": {
             "outlinewidth": 0,
             "ticks": ""
            },
            "colorscale": [
             [
              0,
              "#0d0887"
             ],
             [
              0.1111111111111111,
              "#46039f"
             ],
             [
              0.2222222222222222,
              "#7201a8"
             ],
             [
              0.3333333333333333,
              "#9c179e"
             ],
             [
              0.4444444444444444,
              "#bd3786"
             ],
             [
              0.5555555555555556,
              "#d8576b"
             ],
             [
              0.6666666666666666,
              "#ed7953"
             ],
             [
              0.7777777777777778,
              "#fb9f3a"
             ],
             [
              0.8888888888888888,
              "#fdca26"
             ],
             [
              1,
              "#f0f921"
             ]
            ],
            "type": "heatmap"
           }
          ],
          "heatmapgl": [
           {
            "colorbar": {
             "outlinewidth": 0,
             "ticks": ""
            },
            "colorscale": [
             [
              0,
              "#0d0887"
             ],
             [
              0.1111111111111111,
              "#46039f"
             ],
             [
              0.2222222222222222,
              "#7201a8"
             ],
             [
              0.3333333333333333,
              "#9c179e"
             ],
             [
              0.4444444444444444,
              "#bd3786"
             ],
             [
              0.5555555555555556,
              "#d8576b"
             ],
             [
              0.6666666666666666,
              "#ed7953"
             ],
             [
              0.7777777777777778,
              "#fb9f3a"
             ],
             [
              0.8888888888888888,
              "#fdca26"
             ],
             [
              1,
              "#f0f921"
             ]
            ],
            "type": "heatmapgl"
           }
          ],
          "histogram": [
           {
            "marker": {
             "pattern": {
              "fillmode": "overlay",
              "size": 10,
              "solidity": 0.2
             }
            },
            "type": "histogram"
           }
          ],
          "histogram2d": [
           {
            "colorbar": {
             "outlinewidth": 0,
             "ticks": ""
            },
            "colorscale": [
             [
              0,
              "#0d0887"
             ],
             [
              0.1111111111111111,
              "#46039f"
             ],
             [
              0.2222222222222222,
              "#7201a8"
             ],
             [
              0.3333333333333333,
              "#9c179e"
             ],
             [
              0.4444444444444444,
              "#bd3786"
             ],
             [
              0.5555555555555556,
              "#d8576b"
             ],
             [
              0.6666666666666666,
              "#ed7953"
             ],
             [
              0.7777777777777778,
              "#fb9f3a"
             ],
             [
              0.8888888888888888,
              "#fdca26"
             ],
             [
              1,
              "#f0f921"
             ]
            ],
            "type": "histogram2d"
           }
          ],
          "histogram2dcontour": [
           {
            "colorbar": {
             "outlinewidth": 0,
             "ticks": ""
            },
            "colorscale": [
             [
              0,
              "#0d0887"
             ],
             [
              0.1111111111111111,
              "#46039f"
             ],
             [
              0.2222222222222222,
              "#7201a8"
             ],
             [
              0.3333333333333333,
              "#9c179e"
             ],
             [
              0.4444444444444444,
              "#bd3786"
             ],
             [
              0.5555555555555556,
              "#d8576b"
             ],
             [
              0.6666666666666666,
              "#ed7953"
             ],
             [
              0.7777777777777778,
              "#fb9f3a"
             ],
             [
              0.8888888888888888,
              "#fdca26"
             ],
             [
              1,
              "#f0f921"
             ]
            ],
            "type": "histogram2dcontour"
           }
          ],
          "mesh3d": [
           {
            "colorbar": {
             "outlinewidth": 0,
             "ticks": ""
            },
            "type": "mesh3d"
           }
          ],
          "parcoords": [
           {
            "line": {
             "colorbar": {
              "outlinewidth": 0,
              "ticks": ""
             }
            },
            "type": "parcoords"
           }
          ],
          "pie": [
           {
            "automargin": true,
            "type": "pie"
           }
          ],
          "scatter": [
           {
            "fillpattern": {
             "fillmode": "overlay",
             "size": 10,
             "solidity": 0.2
            },
            "type": "scatter"
           }
          ],
          "scatter3d": [
           {
            "line": {
             "colorbar": {
              "outlinewidth": 0,
              "ticks": ""
             }
            },
            "marker": {
             "colorbar": {
              "outlinewidth": 0,
              "ticks": ""
             }
            },
            "type": "scatter3d"
           }
          ],
          "scattercarpet": [
           {
            "marker": {
             "colorbar": {
              "outlinewidth": 0,
              "ticks": ""
             }
            },
            "type": "scattercarpet"
           }
          ],
          "scattergeo": [
           {
            "marker": {
             "colorbar": {
              "outlinewidth": 0,
              "ticks": ""
             }
            },
            "type": "scattergeo"
           }
          ],
          "scattergl": [
           {
            "marker": {
             "colorbar": {
              "outlinewidth": 0,
              "ticks": ""
             }
            },
            "type": "scattergl"
           }
          ],
          "scattermapbox": [
           {
            "marker": {
             "colorbar": {
              "outlinewidth": 0,
              "ticks": ""
             }
            },
            "type": "scattermapbox"
           }
          ],
          "scatterpolar": [
           {
            "marker": {
             "colorbar": {
              "outlinewidth": 0,
              "ticks": ""
             }
            },
            "type": "scatterpolar"
           }
          ],
          "scatterpolargl": [
           {
            "marker": {
             "colorbar": {
              "outlinewidth": 0,
              "ticks": ""
             }
            },
            "type": "scatterpolargl"
           }
          ],
          "scatterternary": [
           {
            "marker": {
             "colorbar": {
              "outlinewidth": 0,
              "ticks": ""
             }
            },
            "type": "scatterternary"
           }
          ],
          "surface": [
           {
            "colorbar": {
             "outlinewidth": 0,
             "ticks": ""
            },
            "colorscale": [
             [
              0,
              "#0d0887"
             ],
             [
              0.1111111111111111,
              "#46039f"
             ],
             [
              0.2222222222222222,
              "#7201a8"
             ],
             [
              0.3333333333333333,
              "#9c179e"
             ],
             [
              0.4444444444444444,
              "#bd3786"
             ],
             [
              0.5555555555555556,
              "#d8576b"
             ],
             [
              0.6666666666666666,
              "#ed7953"
             ],
             [
              0.7777777777777778,
              "#fb9f3a"
             ],
             [
              0.8888888888888888,
              "#fdca26"
             ],
             [
              1,
              "#f0f921"
             ]
            ],
            "type": "surface"
           }
          ],
          "table": [
           {
            "cells": {
             "fill": {
              "color": "#EBF0F8"
             },
             "line": {
              "color": "white"
             }
            },
            "header": {
             "fill": {
              "color": "#C8D4E3"
             },
             "line": {
              "color": "white"
             }
            },
            "type": "table"
           }
          ]
         },
         "layout": {
          "annotationdefaults": {
           "arrowcolor": "#2a3f5f",
           "arrowhead": 0,
           "arrowwidth": 1
          },
          "autotypenumbers": "strict",
          "coloraxis": {
           "colorbar": {
            "outlinewidth": 0,
            "ticks": ""
           }
          },
          "colorscale": {
           "diverging": [
            [
             0,
             "#8e0152"
            ],
            [
             0.1,
             "#c51b7d"
            ],
            [
             0.2,
             "#de77ae"
            ],
            [
             0.3,
             "#f1b6da"
            ],
            [
             0.4,
             "#fde0ef"
            ],
            [
             0.5,
             "#f7f7f7"
            ],
            [
             0.6,
             "#e6f5d0"
            ],
            [
             0.7,
             "#b8e186"
            ],
            [
             0.8,
             "#7fbc41"
            ],
            [
             0.9,
             "#4d9221"
            ],
            [
             1,
             "#276419"
            ]
           ],
           "sequential": [
            [
             0,
             "#0d0887"
            ],
            [
             0.1111111111111111,
             "#46039f"
            ],
            [
             0.2222222222222222,
             "#7201a8"
            ],
            [
             0.3333333333333333,
             "#9c179e"
            ],
            [
             0.4444444444444444,
             "#bd3786"
            ],
            [
             0.5555555555555556,
             "#d8576b"
            ],
            [
             0.6666666666666666,
             "#ed7953"
            ],
            [
             0.7777777777777778,
             "#fb9f3a"
            ],
            [
             0.8888888888888888,
             "#fdca26"
            ],
            [
             1,
             "#f0f921"
            ]
           ],
           "sequentialminus": [
            [
             0,
             "#0d0887"
            ],
            [
             0.1111111111111111,
             "#46039f"
            ],
            [
             0.2222222222222222,
             "#7201a8"
            ],
            [
             0.3333333333333333,
             "#9c179e"
            ],
            [
             0.4444444444444444,
             "#bd3786"
            ],
            [
             0.5555555555555556,
             "#d8576b"
            ],
            [
             0.6666666666666666,
             "#ed7953"
            ],
            [
             0.7777777777777778,
             "#fb9f3a"
            ],
            [
             0.8888888888888888,
             "#fdca26"
            ],
            [
             1,
             "#f0f921"
            ]
           ]
          },
          "colorway": [
           "#636efa",
           "#EF553B",
           "#00cc96",
           "#ab63fa",
           "#FFA15A",
           "#19d3f3",
           "#FF6692",
           "#B6E880",
           "#FF97FF",
           "#FECB52"
          ],
          "font": {
           "color": "#2a3f5f"
          },
          "geo": {
           "bgcolor": "white",
           "lakecolor": "white",
           "landcolor": "white",
           "showlakes": true,
           "showland": true,
           "subunitcolor": "#C8D4E3"
          },
          "hoverlabel": {
           "align": "left"
          },
          "hovermode": "closest",
          "mapbox": {
           "style": "light"
          },
          "paper_bgcolor": "white",
          "plot_bgcolor": "white",
          "polar": {
           "angularaxis": {
            "gridcolor": "#EBF0F8",
            "linecolor": "#EBF0F8",
            "ticks": ""
           },
           "bgcolor": "white",
           "radialaxis": {
            "gridcolor": "#EBF0F8",
            "linecolor": "#EBF0F8",
            "ticks": ""
           }
          },
          "scene": {
           "xaxis": {
            "backgroundcolor": "white",
            "gridcolor": "#DFE8F3",
            "gridwidth": 2,
            "linecolor": "#EBF0F8",
            "showbackground": true,
            "ticks": "",
            "zerolinecolor": "#EBF0F8"
           },
           "yaxis": {
            "backgroundcolor": "white",
            "gridcolor": "#DFE8F3",
            "gridwidth": 2,
            "linecolor": "#EBF0F8",
            "showbackground": true,
            "ticks": "",
            "zerolinecolor": "#EBF0F8"
           },
           "zaxis": {
            "backgroundcolor": "white",
            "gridcolor": "#DFE8F3",
            "gridwidth": 2,
            "linecolor": "#EBF0F8",
            "showbackground": true,
            "ticks": "",
            "zerolinecolor": "#EBF0F8"
           }
          },
          "shapedefaults": {
           "line": {
            "color": "#2a3f5f"
           }
          },
          "ternary": {
           "aaxis": {
            "gridcolor": "#DFE8F3",
            "linecolor": "#A2B1C6",
            "ticks": ""
           },
           "baxis": {
            "gridcolor": "#DFE8F3",
            "linecolor": "#A2B1C6",
            "ticks": ""
           },
           "bgcolor": "white",
           "caxis": {
            "gridcolor": "#DFE8F3",
            "linecolor": "#A2B1C6",
            "ticks": ""
           }
          },
          "title": {
           "x": 0.05
          },
          "xaxis": {
           "automargin": true,
           "gridcolor": "#EBF0F8",
           "linecolor": "#EBF0F8",
           "ticks": "",
           "title": {
            "standoff": 15
           },
           "zerolinecolor": "#EBF0F8",
           "zerolinewidth": 2
          },
          "yaxis": {
           "automargin": true,
           "gridcolor": "#EBF0F8",
           "linecolor": "#EBF0F8",
           "ticks": "",
           "title": {
            "standoff": 15
           },
           "zerolinecolor": "#EBF0F8",
           "zerolinewidth": 2
          }
         }
        },
        "title": {
         "font": {
          "size": 12
         }
        },
        "width": 700,
        "xaxis": {
         "anchor": "y",
         "domain": [
          0,
          1
         ],
         "linewidth": 1.5,
         "mirror": true,
         "range": [
          "2024-03-08T00:00:00",
          "2025-06-12T00:00:00"
         ],
         "showline": true,
         "title": {
          "text": "ds"
         },
         "type": "date"
        },
        "xaxis2": {
         "anchor": "y2",
         "domain": [
          0,
          1
         ],
         "linewidth": 1.5,
         "mirror": true,
         "range": [
          "2024-03-08T00:00:00",
          "2025-06-12T00:00:00"
         ],
         "showline": true,
         "title": {
          "text": "ds"
         },
         "type": "date"
        },
        "xaxis3": {
         "anchor": "y3",
         "domain": [
          0,
          1
         ],
         "linewidth": 1.5,
         "mirror": true,
         "range": [
          "2024-03-08T00:00:00",
          "2025-06-12T00:00:00"
         ],
         "showline": true,
         "title": {
          "text": "ds"
         },
         "type": "date"
        },
        "yaxis": {
         "anchor": "x",
         "domain": [
          0.7333333333333333,
          1
         ],
         "linewidth": 1.5,
         "mirror": true,
         "rangemode": "normal",
         "showline": true,
         "title": {
          "text": "Trend"
         }
        },
        "yaxis2": {
         "anchor": "x2",
         "domain": [
          0.36666666666666664,
          0.6333333333333333
         ],
         "linewidth": 1.5,
         "mirror": true,
         "rangemode": "tozero",
         "showline": true,
         "title": {
          "text": "yearly seasonality"
         }
        },
        "yaxis3": {
         "anchor": "x3",
         "domain": [
          0,
          0.26666666666666666
         ],
         "linewidth": 1.5,
         "mirror": true,
         "rangemode": "tozero",
         "showline": true,
         "title": {
          "text": "weekly seasonality"
         }
        }
       }
      }
     },
     "metadata": {},
     "output_type": "display_data"
    }
   ],
   "source": [
    "model.plot_components(forecast)"
   ]
  }
 ],
 "metadata": {
  "kernelspec": {
   "display_name": "Python 3",
   "language": "python",
   "name": "python3"
  },
  "language_info": {
   "codemirror_mode": {
    "name": "ipython",
    "version": 3
   },
   "file_extension": ".py",
   "mimetype": "text/x-python",
   "name": "python",
   "nbconvert_exporter": "python",
   "pygments_lexer": "ipython3",
   "version": "3.10.5"
  }
 },
 "nbformat": 4,
 "nbformat_minor": 2
}
